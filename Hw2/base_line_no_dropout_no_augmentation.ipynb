{
 "cells": [
  {
   "cell_type": "code",
   "execution_count": 1,
   "metadata": {},
   "outputs": [
    {
     "name": "stderr",
     "output_type": "stream",
     "text": [
      "Using TensorFlow backend.\n"
     ]
    }
   ],
   "source": [
    "import os\n",
    "import tensorflow as tf\n",
    "import keras.backend.tensorflow_backend as KTF\n",
    "\n",
    "# assign to first GPU\n",
    "os.environ[\"CUDA_VISIBLE_DEVICES\"] = \"0\"\n",
    "\n",
    "#VRAM memory on-demand usage(prevent Keras takes all memory at the beginning)\n",
    "config = tf.ConfigProto()  \n",
    "config.gpu_options.allow_growth=True   \n",
    "sess = tf.Session(config=config)\n",
    "\n",
    "KTF.set_session(sess)\n"
   ]
  },
  {
   "cell_type": "code",
   "execution_count": 2,
   "metadata": {},
   "outputs": [
    {
     "name": "stdout",
     "output_type": "stream",
     "text": [
      "x shape: (50000, 32, 32, 3)\n",
      "x_train shape: (40000, 32, 32, 3)\n",
      "x_val shape: (10000, 32, 32, 3)\n"
     ]
    }
   ],
   "source": [
    "from __future__ import print_function\n",
    "import keras\n",
    "from keras.datasets import cifar10\n",
    "from keras.preprocessing.image import ImageDataGenerator\n",
    "from keras.models import Sequential\n",
    "from keras.layers import Dense, Dropout, Activation, Flatten\n",
    "from keras.layers import Conv2D, MaxPooling2D\n",
    "import os\n",
    "\n",
    "batch_size = 32\n",
    "num_classes = 10\n",
    "epochs = 40\n",
    "num_predictions = 20\n",
    "save_dir = os.path.join(os.getcwd(), 'saved_models')\n",
    "model_name = 'keras_cifar10_trained_model.h5'\n",
    "\n",
    "# The data, split between train and test sets:\n",
    "(x_main, y_main), (x_test, y_test) = cifar10.load_data()\n",
    "\n",
    "print('x shape:', x_main.shape)\n",
    "x_train=x_main[:40000]\n",
    "y_train=y_main[:40000]\n",
    "print('x_train shape:', x_train.shape)\n",
    "x_val=x_main[40000:]\n",
    "y_val=y_main[40000:]\n",
    "print('x_val shape:', x_val.shape)"
   ]
  },
  {
   "cell_type": "code",
   "execution_count": 3,
   "metadata": {},
   "outputs": [],
   "source": [
    "\n",
    "\n",
    "# Convert class vectors to binary class matrices.\n",
    "y_train = keras.utils.to_categorical(y_train, num_classes)\n",
    "y_val = keras.utils.to_categorical(y_val, num_classes)"
   ]
  },
  {
   "cell_type": "code",
   "execution_count": 4,
   "metadata": {},
   "outputs": [],
   "source": [
    "model = Sequential()\n",
    "model.add(Conv2D(32, (3, 3), padding='same',\n",
    "                 input_shape=x_train.shape[1:]))\n",
    "model.add(Activation('relu'))\n",
    "model.add(Conv2D(32, (3, 3)))\n",
    "model.add(Activation('relu'))\n",
    "model.add(MaxPooling2D(pool_size=(2, 2)))\n",
    "\n",
    "model.add(Conv2D(64, (3, 3), padding='same'))\n",
    "model.add(Activation('relu'))\n",
    "model.add(Conv2D(64, (3, 3)))\n",
    "model.add(Activation('relu'))\n",
    "model.add(MaxPooling2D(pool_size=(2, 2)))\n",
    "\n",
    "model.add(Flatten())\n",
    "model.add(Dense(512))\n",
    "model.add(Activation('relu'))\n",
    "model.add(Dense(num_classes))\n",
    "model.add(Activation('softmax'))\n",
    "\n",
    "# initiate RMSprop optimizer\n",
    "opt = keras.optimizers.rmsprop(lr=0.0001, decay=1e-6)\n",
    "\n",
    "# Let's train the model using RMSprop\n",
    "model.compile(loss='categorical_crossentropy',\n",
    "              optimizer=opt,\n",
    "              metrics=['accuracy'])"
   ]
  },
  {
   "cell_type": "code",
   "execution_count": 5,
   "metadata": {},
   "outputs": [],
   "source": [
    "x_train = x_train.astype('float32')\n",
    "x_val = x_val.astype('float32')\n",
    "x_train /= 255\n",
    "x_val /= 255"
   ]
  },
  {
   "cell_type": "code",
   "execution_count": 6,
   "metadata": {},
   "outputs": [
    {
     "name": "stdout",
     "output_type": "stream",
     "text": [
      "Not using data augmentation.\n",
      "Train on 40000 samples, validate on 10000 samples\n",
      "Epoch 1/40\n",
      "40000/40000 [==============================] - 13s 329us/step - loss: 1.6921 - acc: 0.3912 - val_loss: 1.4875 - val_acc: 0.4563\n",
      "Epoch 2/40\n",
      "40000/40000 [==============================] - 11s 265us/step - loss: 1.3910 - acc: 0.5044 - val_loss: 1.3054 - val_acc: 0.5373\n",
      "Epoch 3/40\n",
      "40000/40000 [==============================] - 11s 264us/step - loss: 1.2449 - acc: 0.5581 - val_loss: 1.2290 - val_acc: 0.5623\n",
      "Epoch 4/40\n",
      "40000/40000 [==============================] - 10s 262us/step - loss: 1.1321 - acc: 0.6016 - val_loss: 1.1560 - val_acc: 0.5955\n",
      "Epoch 5/40\n",
      "40000/40000 [==============================] - 11s 263us/step - loss: 1.0411 - acc: 0.6342 - val_loss: 1.0493 - val_acc: 0.6385\n",
      "Epoch 6/40\n",
      "40000/40000 [==============================] - 11s 263us/step - loss: 0.9680 - acc: 0.6634 - val_loss: 0.9806 - val_acc: 0.6609\n",
      "Epoch 7/40\n",
      "40000/40000 [==============================] - 11s 267us/step - loss: 0.9053 - acc: 0.6835 - val_loss: 0.9581 - val_acc: 0.6706\n",
      "Epoch 8/40\n",
      "40000/40000 [==============================] - 10s 260us/step - loss: 0.8466 - acc: 0.7057 - val_loss: 0.8997 - val_acc: 0.6893\n",
      "Epoch 9/40\n",
      "40000/40000 [==============================] - 10s 261us/step - loss: 0.7931 - acc: 0.7271 - val_loss: 0.8916 - val_acc: 0.6933\n",
      "Epoch 10/40\n",
      "40000/40000 [==============================] - 11s 264us/step - loss: 0.7460 - acc: 0.7433 - val_loss: 0.8980 - val_acc: 0.6957\n",
      "Epoch 11/40\n",
      "40000/40000 [==============================] - 11s 263us/step - loss: 0.6988 - acc: 0.7579 - val_loss: 0.8486 - val_acc: 0.7168\n",
      "Epoch 12/40\n",
      "40000/40000 [==============================] - 10s 261us/step - loss: 0.6548 - acc: 0.7749 - val_loss: 0.8392 - val_acc: 0.7161\n",
      "Epoch 13/40\n",
      "40000/40000 [==============================] - 10s 260us/step - loss: 0.6079 - acc: 0.7913 - val_loss: 0.8597 - val_acc: 0.7101\n",
      "Epoch 14/40\n",
      "40000/40000 [==============================] - 10s 259us/step - loss: 0.5643 - acc: 0.8069 - val_loss: 0.8356 - val_acc: 0.7234\n",
      "Epoch 15/40\n",
      "40000/40000 [==============================] - 10s 260us/step - loss: 0.5232 - acc: 0.8209 - val_loss: 0.8592 - val_acc: 0.7207\n",
      "Epoch 16/40\n",
      "40000/40000 [==============================] - 10s 262us/step - loss: 0.4800 - acc: 0.8365 - val_loss: 0.8489 - val_acc: 0.7257\n",
      "Epoch 17/40\n",
      "40000/40000 [==============================] - 11s 265us/step - loss: 0.4406 - acc: 0.8484 - val_loss: 0.8239 - val_acc: 0.7383\n",
      "Epoch 18/40\n",
      "40000/40000 [==============================] - 11s 264us/step - loss: 0.4008 - acc: 0.8638 - val_loss: 0.8636 - val_acc: 0.7325\n",
      "Epoch 19/40\n",
      "40000/40000 [==============================] - 10s 259us/step - loss: 0.3631 - acc: 0.8770 - val_loss: 0.8458 - val_acc: 0.7457\n",
      "Epoch 20/40\n",
      "40000/40000 [==============================] - 10s 262us/step - loss: 0.3248 - acc: 0.8917 - val_loss: 0.8881 - val_acc: 0.7395\n",
      "Epoch 21/40\n",
      "40000/40000 [==============================] - 10s 262us/step - loss: 0.2898 - acc: 0.9035 - val_loss: 0.9467 - val_acc: 0.7359\n",
      "Epoch 22/40\n",
      "40000/40000 [==============================] - 10s 262us/step - loss: 0.2545 - acc: 0.9160 - val_loss: 0.9396 - val_acc: 0.7362\n",
      "Epoch 23/40\n",
      "40000/40000 [==============================] - 10s 260us/step - loss: 0.2227 - acc: 0.9282 - val_loss: 0.9968 - val_acc: 0.7401\n",
      "Epoch 24/40\n",
      "40000/40000 [==============================] - 10s 257us/step - loss: 0.1921 - acc: 0.9382 - val_loss: 1.0347 - val_acc: 0.7368\n",
      "Epoch 25/40\n",
      "40000/40000 [==============================] - 10s 260us/step - loss: 0.1639 - acc: 0.9466 - val_loss: 1.1231 - val_acc: 0.7296\n",
      "Epoch 26/40\n",
      "40000/40000 [==============================] - 11s 266us/step - loss: 0.1400 - acc: 0.9546 - val_loss: 1.1570 - val_acc: 0.7377\n",
      "Epoch 27/40\n",
      "40000/40000 [==============================] - 11s 264us/step - loss: 0.1173 - acc: 0.9636 - val_loss: 1.2186 - val_acc: 0.7325\n",
      "Epoch 28/40\n",
      "40000/40000 [==============================] - 10s 262us/step - loss: 0.1015 - acc: 0.9691 - val_loss: 1.2623 - val_acc: 0.7345\n",
      "Epoch 29/40\n",
      "40000/40000 [==============================] - 10s 260us/step - loss: 0.0840 - acc: 0.9736 - val_loss: 1.3672 - val_acc: 0.7304\n",
      "Epoch 30/40\n",
      "40000/40000 [==============================] - 10s 261us/step - loss: 0.0716 - acc: 0.9776 - val_loss: 1.3755 - val_acc: 0.7367\n",
      "Epoch 31/40\n",
      "40000/40000 [==============================] - 10s 261us/step - loss: 0.0606 - acc: 0.9819 - val_loss: 1.5539 - val_acc: 0.7150\n",
      "Epoch 32/40\n",
      "40000/40000 [==============================] - 11s 264us/step - loss: 0.0505 - acc: 0.9851 - val_loss: 1.5354 - val_acc: 0.7267\n",
      "Epoch 33/40\n",
      "40000/40000 [==============================] - 10s 242us/step - loss: 0.0438 - acc: 0.9871 - val_loss: 1.5892 - val_acc: 0.7315\n",
      "Epoch 34/40\n",
      "40000/40000 [==============================] - 8s 197us/step - loss: 0.0383 - acc: 0.9888 - val_loss: 1.6787 - val_acc: 0.7254\n",
      "Epoch 35/40\n",
      "40000/40000 [==============================] - 10s 250us/step - loss: 0.0330 - acc: 0.9899 - val_loss: 1.6897 - val_acc: 0.7277\n",
      "Epoch 36/40\n",
      "40000/40000 [==============================] - 10s 252us/step - loss: 0.0303 - acc: 0.9908 - val_loss: 1.7705 - val_acc: 0.7280\n",
      "Epoch 37/40\n",
      "40000/40000 [==============================] - 10s 251us/step - loss: 0.0270 - acc: 0.9919 - val_loss: 1.8154 - val_acc: 0.7247\n",
      "Epoch 38/40\n",
      "40000/40000 [==============================] - 10s 253us/step - loss: 0.0238 - acc: 0.9931 - val_loss: 1.8587 - val_acc: 0.7280\n",
      "Epoch 39/40\n",
      "40000/40000 [==============================] - 10s 250us/step - loss: 0.0239 - acc: 0.9925 - val_loss: 1.9065 - val_acc: 0.7282\n",
      "Epoch 40/40\n",
      "40000/40000 [==============================] - 10s 255us/step - loss: 0.0202 - acc: 0.9938 - val_loss: 1.9156 - val_acc: 0.7271\n"
     ]
    },
    {
     "data": {
      "text/plain": [
       "<keras.callbacks.History at 0x1a5f4c92128>"
      ]
     },
     "execution_count": 6,
     "metadata": {},
     "output_type": "execute_result"
    }
   ],
   "source": [
    "\n",
    "\n",
    "print('Not using data augmentation.')\n",
    "model.fit(x_train, y_train,\n",
    "            batch_size=batch_size,\n",
    "            epochs=epochs,\n",
    "            validation_data=(x_val, y_val),\n",
    "            shuffle=True)\n"
   ]
  },
  {
   "cell_type": "code",
   "execution_count": 7,
   "metadata": {},
   "outputs": [
    {
     "name": "stdout",
     "output_type": "stream",
     "text": [
      "10000/10000 [==============================] - 1s 82us/step\n"
     ]
    },
    {
     "data": {
      "text/plain": [
       "[2.0158658267974854, 0.7219]"
      ]
     },
     "execution_count": 7,
     "metadata": {},
     "output_type": "execute_result"
    }
   ],
   "source": [
    "x_test = x_test.astype('float32')\n",
    "x_test /= 255\n",
    "y_test = keras.utils.to_categorical(y_test, num_classes)\n",
    "model.evaluate(x=x_test, y=y_test, batch_size=batch_size, verbose=1)"
   ]
  },
  {
   "cell_type": "code",
   "execution_count": 8,
   "metadata": {},
   "outputs": [],
   "source": [
    "model.save('simple.h5')"
   ]
  },
  {
   "cell_type": "code",
   "execution_count": null,
   "metadata": {},
   "outputs": [],
   "source": []
  }
 ],
 "metadata": {
  "kernelspec": {
   "display_name": "Python 3",
   "language": "python",
   "name": "python3"
  },
  "language_info": {
   "codemirror_mode": {
    "name": "ipython",
    "version": 3
   },
   "file_extension": ".py",
   "mimetype": "text/x-python",
   "name": "python",
   "nbconvert_exporter": "python",
   "pygments_lexer": "ipython3",
   "version": "3.7.0"
  }
 },
 "nbformat": 4,
 "nbformat_minor": 2
}
