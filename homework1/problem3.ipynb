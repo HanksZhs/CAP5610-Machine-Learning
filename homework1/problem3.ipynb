{
 "cells": [
  {
   "cell_type": "code",
   "execution_count": 1,
   "metadata": {
    "scrolled": false
   },
   "outputs": [
    {
     "name": "stderr",
     "output_type": "stream",
     "text": [
      "Using TensorFlow backend.\n"
     ]
    }
   ],
   "source": [
    "import matplotlib.pyplot as plt\n",
    "import pandas as pd\n",
    "import numpy as np\n",
    "import time\n",
    "import sys\n",
    "import warnings\n",
    "from keras.datasets import mnist \n",
    "from keras.utils import np_utils\n",
    "\n",
    "# the data, shuffled and split between train and test sets \n",
    "(X_train, y_train), (X_test, y_test) = mnist.load_data()\n",
    "input_dim = 784 #28*28 \n",
    "X_train = X_train.reshape(60000, input_dim) \n",
    "X_test = X_test.reshape(10000, input_dim) \n",
    "X_train = X_train.astype('float32') \n",
    "X_test = X_test.astype('float32') \n",
    "X_train /= 255 \n",
    "X_test /= 255\n",
    "nb_classes = 10 \n",
    "m=X_train.shape[0]"
   ]
  },
  {
   "cell_type": "code",
   "execution_count": 2,
   "metadata": {},
   "outputs": [],
   "source": [
    "Y_train = np_utils.to_categorical(y_train, nb_classes) \n",
    "Y_test = np_utils.to_categorical(y_test, nb_classes)"
   ]
  },
  {
   "cell_type": "code",
   "execution_count": 3,
   "metadata": {},
   "outputs": [],
   "source": [
    "def softmax(z):\n",
    "    z_exp = np.exp(z - np.max(z, -1, keepdims=True))\n",
    "    return (z_exp / np.sum(z_exp, -1, keepdims=True ))"
   ]
  },
  {
   "cell_type": "code",
   "execution_count": 4,
   "metadata": {},
   "outputs": [],
   "source": [
    "def cce(a, y):\n",
    "    return -np.sum(y * np.log(a), axis=-1)"
   ]
  },
  {
   "cell_type": "code",
   "execution_count": 5,
   "metadata": {},
   "outputs": [],
   "source": [
    "def predict(w,b,x):\n",
    "        return softmax(x.dot(w) + b)"
   ]
  },
  {
   "cell_type": "code",
   "execution_count": 6,
   "metadata": {},
   "outputs": [],
   "source": [
    "def get_acc(y_predic,y_origin):\n",
    "    temp=np.zeros_like(y_origin)\n",
    "    for i in range(y_origin.shape[0]):\n",
    "        if np.argmax(y_predic[i])==y_origin[i]:\n",
    "            temp[i]=0\n",
    "        else:\n",
    "            temp[i]=1\n",
    "        \n",
    "    return (100.0 - np.mean(temp*100.0))"
   ]
  },
  {
   "cell_type": "code",
   "execution_count": 7,
   "metadata": {},
   "outputs": [],
   "source": [
    "def init():\n",
    "    epochs=20\n",
    "    n_class=10\n",
    "    verbose=1\n",
    "    lr=0.01\n",
    "    batch_size=4\n",
    "    weights = np.zeros((X_train.shape[1], n_class))\n",
    "    bias = np.random.randn(1, n_class)\n",
    "    history = {\n",
    "            'loss': []\n",
    "    }\n",
    "    weights_history = []\n",
    "    for epoch in range(epochs):\n",
    "        if verbose > 0:\n",
    "            print(\"Epoch {}/{}\".format(epoch+1,epochs))\n",
    "        \n",
    "        shuffled_indices = np.random.permutation(m)\n",
    "        X_train_shuffled = X_train[shuffled_indices]\n",
    "        Y_train_shuffled = Y_train[shuffled_indices]\n",
    "        loss = []\n",
    "        for i in range(0, X_train.shape[0], batch_size):\n",
    "            xi = X_train_shuffled[i:i+batch_size]\n",
    "            yi = Y_train_shuffled[i:i+batch_size]\n",
    "            z = xi.dot(weights) + bias\n",
    "            a = softmax(z)\n",
    "\n",
    "            gradient = a - yi\n",
    "                \n",
    "            weights = weights - lr * (gradient.T @ xi).T/batch_size\n",
    "            bias = bias - lr * gradient.mean(axis=0)\n",
    "                \n",
    "            if i % (X_train.shape[0]/30) == 0:\n",
    "                weights_history += [softmax(weights)]\n",
    "                \n",
    "        history['loss'] += [cce(predict(weights, bias, X_train_shuffled), Y_train_shuffled).mean()]\n",
    "        if verbose > 0:\n",
    "                print(\"Loss= {}\\n\".format(history['loss'][-1]))\n",
    "                \n",
    "    pred_train = predict(weights, bias, X_train)\n",
    "    print(\"Accuracy Train: \",get_acc(pred_train,y_train))\n",
    "    pred_test = predict(weights, bias,X_test)\n",
    "    print(\"Accuarcy Test:  \",get_acc(pred_test,y_test))"
   ]
  },
  {
   "cell_type": "code",
   "execution_count": 8,
   "metadata": {},
   "outputs": [
    {
     "name": "stdout",
     "output_type": "stream",
     "text": [
      "Epoch 1/20\n",
      "Loss: 0.3282673598661668\n",
      "\n",
      "Epoch 2/20\n",
      "Loss: 0.3026128813594132\n",
      "\n",
      "Epoch 3/20\n",
      "Loss: 0.2916717070436777\n",
      "\n",
      "Epoch 4/20\n",
      "Loss: 0.28170635733801136\n",
      "\n",
      "Epoch 5/20\n",
      "Loss: 0.2786477171044581\n",
      "\n",
      "Epoch 6/20\n",
      "Loss: 0.27501129857686357\n",
      "\n",
      "Epoch 7/20\n",
      "Loss: 0.26905595875307864\n",
      "\n",
      "Epoch 8/20\n",
      "Loss: 0.26764513725620165\n",
      "\n",
      "Epoch 9/20\n",
      "Loss: 0.2655952849205713\n",
      "\n",
      "Epoch 10/20\n",
      "Loss: 0.2645897471439178\n",
      "\n",
      "Epoch 11/20\n",
      "Loss: 0.2634790229531355\n",
      "\n",
      "Epoch 12/20\n",
      "Loss: 0.2590799333643018\n",
      "\n",
      "Epoch 13/20\n",
      "Loss: 0.2585442041744945\n",
      "\n",
      "Epoch 14/20\n",
      "Loss: 0.2611932342212328\n",
      "\n",
      "Epoch 15/20\n",
      "Loss: 0.25599514796275824\n",
      "\n",
      "Epoch 16/20\n",
      "Loss: 0.2541437667535881\n",
      "\n",
      "Epoch 17/20\n",
      "Loss: 0.2549452116944405\n",
      "\n",
      "Epoch 18/20\n",
      "Loss: 0.25635915076919824\n",
      "\n",
      "Epoch 19/20\n",
      "Loss: 0.25262894375922923\n",
      "\n",
      "Epoch 20/20\n",
      "Loss: 0.25064496158231453\n",
      "\n",
      "Accuracy Train:  93.09166666666667\n",
      "Accuarcy Test:   92.51\n"
     ]
    }
   ],
   "source": [
    "init()"
   ]
  }
 ],
 "metadata": {
  "kernelspec": {
   "display_name": "Python 3",
   "language": "python",
   "name": "python3"
  },
  "language_info": {
   "codemirror_mode": {
    "name": "ipython",
    "version": 3
   },
   "file_extension": ".py",
   "mimetype": "text/x-python",
   "name": "python",
   "nbconvert_exporter": "python",
   "pygments_lexer": "ipython3",
   "version": "3.6.7"
  }
 },
 "nbformat": 4,
 "nbformat_minor": 2
}
