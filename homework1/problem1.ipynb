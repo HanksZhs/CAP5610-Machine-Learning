{
 "cells": [
  {
   "cell_type": "code",
   "execution_count": 1,
   "metadata": {},
   "outputs": [
    {
     "name": "stderr",
     "output_type": "stream",
     "text": [
      "Using TensorFlow backend.\n"
     ]
    },
    {
     "name": "stdout",
     "output_type": "stream",
     "text": [
      "(60000, 28, 28)\n",
      "(60000, 784)\n",
      "(60000, 784)\n"
     ]
    }
   ],
   "source": [
    "from keras.datasets import mnist\n",
    "import numpy as np\n",
    "import matplotlib\n",
    "import matplotlib.pyplot as plt\n",
    "\n",
    "(train_images, train_labels), (test_images, test_labels) = mnist.load_data()\n",
    "\n",
    "print(train_images.shape)\n",
    "train_images=train_images.reshape(train_images.shape[0],train_images.shape[1]*train_images.shape[2])\n",
    "print(train_images.shape)\n",
    "test_images=test_images.reshape(test_images.shape[0],test_images.shape[1]*test_images.shape[2])\n",
    "print(train_images.shape)"
   ]
  },
  {
   "cell_type": "code",
   "execution_count": 2,
   "metadata": {},
   "outputs": [],
   "source": [
    "# normalize training img and test img\n",
    "train_images_normalised = train_images/255.0\n",
    "test_images_normalised = test_images/255.0"
   ]
  },
  {
   "cell_type": "code",
   "execution_count": 3,
   "metadata": {},
   "outputs": [],
   "source": [
    "train_img_tr = train_images_normalised.transpose()\n",
    "test_img_tr = test_images_normalised.transpose()\n",
    "train_label_tr = train_labels.reshape(1,train_labels.shape[0])\n",
    "test_label_tr = test_labels.reshape(1,test_labels.shape[0])"
   ]
  },
  {
   "cell_type": "code",
   "execution_count": 4,
   "metadata": {},
   "outputs": [
    {
     "name": "stdout",
     "output_type": "stream",
     "text": [
      "(784, 60000)\n",
      "(784, 10000)\n",
      "(1, 60000)\n",
      "(1, 10000)\n"
     ]
    }
   ],
   "source": [
    "print(train_img_tr.shape)\n",
    "print(test_img_tr.shape)\n",
    "print(train_label_tr.shape)\n",
    "print(test_label_tr.shape)"
   ]
  },
  {
   "cell_type": "code",
   "execution_count": 5,
   "metadata": {},
   "outputs": [
    {
     "name": "stdout",
     "output_type": "stream",
     "text": [
      "The training dataset has dimensions equal to 60000\n",
      "The test set has dimensions equal to 10000\n"
     ]
    }
   ],
   "source": [
    "dim_train = train_img_tr.shape[1]\n",
    "dim_test = test_img_tr.shape[1]\n",
    "print(\"The training dataset has dimensions equal to\", dim_train)\n",
    "print(\"The test set has dimensions equal to\", dim_test)"
   ]
  },
  {
   "cell_type": "code",
   "execution_count": 6,
   "metadata": {},
   "outputs": [],
   "source": [
    "def shifted_label(label,target):\n",
    "    label_copy=label.copy()\n",
    "    for i in range (0,label.shape[1]):\n",
    "        if label[0][i]==target:\n",
    "            label_copy[0][i]=1\n",
    "        else:\n",
    "            label_copy[0][i]=0\n",
    "    return label_copy"
   ]
  },
  {
   "cell_type": "code",
   "execution_count": 7,
   "metadata": {},
   "outputs": [
    {
     "name": "stdout",
     "output_type": "stream",
     "text": [
      "o: [2 1 3 1 4 3 5 3 6 1 7 2 8 6 9 4 0 9 1 1 2 4 3 2 7]\n",
      "9: [0 0 0 0 0 0 0 0 0 0 0 0 0 0 1 0 0 1 0 0 0 0 0 0 0]\n",
      "8: [0 0 0 0 0 0 0 0 0 0 0 0 1 0 0 0 0 0 0 0 0 0 0 0 0]\n"
     ]
    }
   ],
   "source": [
    "# let find digit 9\n",
    "print (\"o:\",train_label_tr[0][5:30])\n",
    "train_label_shifted_9 = train_label_tr//9\n",
    "print (\"9:\",train_label_shifted_9[0][5:30])\n",
    "test_label_shifted_9 = test_label_tr//9\n",
    "\n",
    "train_label_shifted_8 = shifted_label(train_label_tr,8)\n",
    "test_label_shifted_8 = shifted_label(test_label_tr,8)\n",
    "print(\"8:\",train_label_shifted_8[0][5:30])"
   ]
  },
  {
   "cell_type": "code",
   "execution_count": 8,
   "metadata": {},
   "outputs": [
    {
     "name": "stdout",
     "output_type": "stream",
     "text": [
      "o: [2 1 3 1 4 3 5 3 6 1 7 2 8 6 9 4 0 9 1 1 2 4 3 2 7]\n",
      "7: [0 0 0 0 0 0 0 0 0 0 1 0 0 0 0 0 0 0 0 0 0 0 0 0 1]\n",
      "6: [0 0 0 0 0 0 0 0 1 0 0 0 0 1 0 0 0 0 0 0 0 0 0 0 0]\n",
      "5: [0 0 0 0 0 0 1 0 0 0 0 0 0 0 0 0 0 0 0 0 0 0 0 0 0]\n",
      "4: [0 0 0 0 1 0 0 0 0 0 0 0 0 0 0 1 0 0 0 0 0 1 0 0 0]\n",
      "3: [0 0 1 0 0 1 0 1 0 0 0 0 0 0 0 0 0 0 0 0 0 0 1 0 0]\n",
      "2: [1 0 0 0 0 0 0 0 0 0 0 1 0 0 0 0 0 0 0 0 1 0 0 1 0]\n",
      "1: [0 1 0 1 0 0 0 0 0 1 0 0 0 0 0 0 0 0 1 1 0 0 0 0 0]\n",
      "0: [0 0 0 0 0 0 0 0 0 0 0 0 0 0 0 0 1 0 0 0 0 0 0 0 0]\n"
     ]
    }
   ],
   "source": [
    "train_label_shifted_7 = shifted_label(train_label_tr,7)\n",
    "test_label_shifted_7 = shifted_label(test_label_tr,7)\n",
    "train_label_shifted_6 = shifted_label(train_label_tr,6)\n",
    "test_label_shifted_6 = shifted_label(test_label_tr,6)\n",
    "train_label_shifted_5 = shifted_label(train_label_tr,5)\n",
    "test_label_shifted_5 = shifted_label(test_label_tr,5)\n",
    "train_label_shifted_4 = shifted_label(train_label_tr,4)\n",
    "test_label_shifted_4 = shifted_label(test_label_tr,4)\n",
    "train_label_shifted_3 = shifted_label(train_label_tr,3)\n",
    "test_label_shifted_3 = shifted_label(test_label_tr,3)\n",
    "train_label_shifted_2 = shifted_label(train_label_tr,2)\n",
    "test_label_shifted_2 = shifted_label(test_label_tr,2)\n",
    "train_label_shifted_1 = shifted_label(train_label_tr,1)\n",
    "test_label_shifted_1 = shifted_label(test_label_tr,1)\n",
    "train_label_shifted_0 = shifted_label(train_label_tr,0)\n",
    "test_label_shifted_0 = shifted_label(test_label_tr,0)\n",
    "print (\"o:\",train_label_tr[0][5:30])\n",
    "print(\"7:\",train_label_shifted_7[0][5:30])\n",
    "print(\"6:\",train_label_shifted_6[0][5:30])\n",
    "print(\"5:\",train_label_shifted_5[0][5:30])\n",
    "print(\"4:\",train_label_shifted_4[0][5:30])\n",
    "print(\"3:\",train_label_shifted_3[0][5:30])\n",
    "print(\"2:\",train_label_shifted_2[0][5:30])\n",
    "print(\"1:\",train_label_shifted_1[0][5:30])\n",
    "print(\"0:\",train_label_shifted_0[0][5:30])"
   ]
  },
  {
   "cell_type": "code",
   "execution_count": 9,
   "metadata": {},
   "outputs": [],
   "source": [
    "def sigmoid(z):\n",
    "    s = 1.0 / (1.0 + np.exp(-z))\n",
    "    return s"
   ]
  },
  {
   "cell_type": "code",
   "execution_count": 10,
   "metadata": {},
   "outputs": [],
   "source": [
    "def initialize(dim):\n",
    "    #w = np.zeros((dim,1))\n",
    "    w =np.random.randn(dim,1)*0.1\n",
    "    #w= np.random.rand(dim,1)\n",
    "    b = 0   \n",
    "    # assert (w.shape == (dim,1))\n",
    "    # assert (isinstance(b, float) or isinstance(b,int))\n",
    "    return w,b"
   ]
  },
  {
   "cell_type": "code",
   "execution_count": 11,
   "metadata": {},
   "outputs": [],
   "source": [
    "\n",
    "def propagate(w, b, X, Y):\n",
    "    \n",
    "    m = X.shape[1]\n",
    "    \n",
    "    z = np.dot(w.T,X)+b\n",
    "    \n",
    "    A = sigmoid(z)\n",
    "    A2 = np.dot(A,(1-A).T)\n",
    "    \n",
    "    cost = 1.0/m*np.dot((A-Y),(A-Y).T)\n",
    "    \n",
    "    #dw = 1.0/m*np.dot(X,(A-Y).T)    #a(1-a)(a-y)Xj\n",
    "    #dw=1.0/m*np.dot(np.dot(np.dot(X,(1-A).T),A),(A-Y).T) # X * (1-A) *A *(A-Y)\n",
    "    #dw=1.0/m*np.dot((A-Y).T,np.dot(A,np.dot((1-A).T,X)))\n",
    "    #dw=1.0/m*np.dot(X, (A-Y).T)*A2\n",
    "    \n",
    "    dw=1.0/m* np.dot(X,(np.dot((A-Y),A.T)*(1-A)).T)\n",
    "    #db = 1.0/m*np.sum(np.dot(np.dot((A-Y),A.T),(1-A)))\n",
    "    #db=1.0/m*np.sum(A-Y)*A2\n",
    "    db=1.0/m*np.sum(np.dot(np.dot((A-Y),A.T),(1-A)))\n",
    "    assert (dw.shape == w.shape)\n",
    "    assert (db.dtype == float)\n",
    "    \n",
    "    cost = np.squeeze(cost)\n",
    "    assert (cost.shape == ())\n",
    "    \n",
    "    grads = {\"dw\": dw, \n",
    "             \"db\":db}\n",
    "    \n",
    "    return grads, cost"
   ]
  },
  {
   "cell_type": "code",
   "execution_count": 12,
   "metadata": {},
   "outputs": [],
   "source": [
    "def optimize(w, b, X, Y, num_iterations, learning_rate, print_cost = False):\n",
    "\n",
    "    costs = []\n",
    "    \n",
    "    for i in range(num_iterations):\n",
    "        \n",
    "        grads, cost = propagate(w, b, X, Y)\n",
    "        \n",
    "        dw = grads[\"dw\"]\n",
    "        db = grads[\"db\"]\n",
    "        \n",
    "        w = w - learning_rate*dw\n",
    "        b = b - learning_rate*db\n",
    "        \n",
    "        if i % 100 == 0:\n",
    "            costs.append(cost)\n",
    "            \n",
    "        if print_cost and i % 100 == 0:\n",
    "            print (\"Cost (iteration %i) = %f\" %(i, cost))\n",
    "            \n",
    "    grads = {\"dw\": dw, \"db\": db}\n",
    "    params = {\"w\": w, \"b\": b}\n",
    "        \n",
    "    return params, grads, costs"
   ]
  },
  {
   "cell_type": "code",
   "execution_count": 13,
   "metadata": {},
   "outputs": [],
   "source": [
    "def predict (w, b, X):\n",
    "    \n",
    "    m = X.shape[1]\n",
    "    Y_prediction = np.zeros((1,m))\n",
    "    w = w.reshape(X.shape[0],1)\n",
    "    A = sigmoid (np.dot(w.T, X)+b)\n",
    "    for i in range(A.shape[1]):\n",
    "        if (A[:,i] > 0.5): \n",
    "            Y_prediction[:, i] = 1\n",
    "        elif (A[:,i] <= 0.5):\n",
    "            Y_prediction[:, i] = 0\n",
    "            \n",
    "    assert (Y_prediction.shape == (1,m))\n",
    "    \n",
    "    return Y_prediction,A"
   ]
  },
  {
   "cell_type": "code",
   "execution_count": 14,
   "metadata": {},
   "outputs": [],
   "source": [
    "def model (X_train, Y_train, X_test, Y_test, num_iterations = 1000, learning_rate = 0.5, print_cost = False):\n",
    "    \n",
    "    w, b = initialize(X_train.shape[0])\n",
    "    parameters, grads, costs = optimize(w, b, X_train, Y_train, num_iterations, learning_rate, print_cost)\n",
    "    \n",
    "    w = parameters[\"w\"]\n",
    "    b = parameters[\"b\"]\n",
    "    \n",
    "    Y_prediction_test = predict (w, b, X_test)\n",
    "    Y_prediction_train = predict (w, b, X_train)\n",
    "    \n",
    "    train_accuracy = 100.0 - np.mean(np.abs(Y_prediction_train-Y_train)*100.0)\n",
    "    test_accuracy = 100.0 - np.mean(np.abs(Y_prediction_test-Y_test)*100.0)\n",
    "    \n",
    "    d = {\"costs\": costs,\n",
    "        \"Y_prediction_test\": Y_prediction_test,\n",
    "        \"Y_prediction_train\": Y_prediction_train,\n",
    "         \"w\": w,\n",
    "         \"b\": b,\n",
    "         \"learning_rate\": learning_rate,\n",
    "         \"num_iterations\": num_iterations}\n",
    "    \n",
    "    print (\"Accuarcy Test: \",  test_accuracy)\n",
    "    print (\"Accuracy Train: \", train_accuracy)\n",
    "\n",
    "    \n",
    "    \n",
    "    return d"
   ]
  },
  {
   "cell_type": "code",
   "execution_count": 15,
   "metadata": {
    "scrolled": true
   },
   "outputs": [
    {
     "name": "stdout",
     "output_type": "stream",
     "text": [
      "----------Running model for 9----------\n",
      "Cost (iteration 0) = 0.207715\n"
     ]
    },
    {
     "name": "stderr",
     "output_type": "stream",
     "text": [
      "C:\\Anaconda3\\envs\\tf\\lib\\site-packages\\ipykernel_launcher.py:2: RuntimeWarning: overflow encountered in exp\n",
      "  \n"
     ]
    },
    {
     "name": "stdout",
     "output_type": "stream",
     "text": [
      "Cost (iteration 100) = 0.099150\n",
      "Cost (iteration 200) = 0.099150\n",
      "Cost (iteration 300) = 0.099150\n",
      "Cost (iteration 400) = 0.099150\n",
      "Accuarcy Test:  89.91\n",
      "Accuracy Train:  90.08500000000001\n",
      "----------Running model for 8----------\n",
      "Cost (iteration 0) = 0.190290\n",
      "Cost (iteration 100) = 0.097517\n",
      "Cost (iteration 200) = 0.097517\n",
      "Cost (iteration 300) = 0.097517\n",
      "Cost (iteration 400) = 0.097517\n",
      "Accuarcy Test:  90.26\n",
      "Accuracy Train:  90.24833333333333\n",
      "----------Running model for 7----------\n",
      "Cost (iteration 0) = 0.173422\n",
      "Cost (iteration 100) = 0.104417\n",
      "Cost (iteration 200) = 0.104417\n",
      "Cost (iteration 300) = 0.104417\n",
      "Cost (iteration 400) = 0.104417\n",
      "Accuarcy Test:  89.72\n",
      "Accuracy Train:  89.55833333333334\n",
      "----------Running model for 6----------\n",
      "Cost (iteration 0) = 0.393232\n",
      "Cost (iteration 100) = 0.098633\n",
      "Cost (iteration 200) = 0.098633\n",
      "Cost (iteration 300) = 0.098633\n",
      "Cost (iteration 400) = 0.098633\n",
      "Accuarcy Test:  90.42\n",
      "Accuracy Train:  90.13666666666667\n",
      "----------Running model for 5----------\n",
      "Cost (iteration 0) = 0.163458\n",
      "Cost (iteration 100) = 0.090350\n",
      "Cost (iteration 200) = 0.090350\n",
      "Cost (iteration 300) = 0.090350\n",
      "Cost (iteration 400) = 0.090350\n",
      "Accuarcy Test:  91.08\n",
      "Accuracy Train:  90.965\n",
      "----------Running model for 4----------\n",
      "Cost (iteration 0) = 0.298932\n",
      "Cost (iteration 100) = 0.097367\n",
      "Cost (iteration 200) = 0.097367\n",
      "Cost (iteration 300) = 0.097367\n",
      "Cost (iteration 400) = 0.097367\n",
      "Accuarcy Test:  90.18\n",
      "Accuracy Train:  90.26333333333334\n",
      "----------Running model for 3----------\n",
      "Cost (iteration 0) = 0.394118\n",
      "Cost (iteration 100) = 0.102183\n",
      "Cost (iteration 200) = 0.102183\n",
      "Cost (iteration 300) = 0.102183\n",
      "Cost (iteration 400) = 0.102183\n",
      "Accuarcy Test:  89.9\n",
      "Accuracy Train:  89.78166666666667\n",
      "----------Running model for 2----------\n",
      "Cost (iteration 0) = 0.216573\n",
      "Cost (iteration 100) = 0.099300\n",
      "Cost (iteration 200) = 0.099300\n",
      "Cost (iteration 300) = 0.099300\n",
      "Cost (iteration 400) = 0.099300\n",
      "Accuarcy Test:  89.68\n",
      "Accuracy Train:  90.07\n",
      "----------Running model for 1----------\n",
      "Cost (iteration 0) = 0.163470\n",
      "Cost (iteration 100) = 0.112367\n",
      "Cost (iteration 200) = 0.112367\n",
      "Cost (iteration 300) = 0.112367\n",
      "Cost (iteration 400) = 0.112367\n",
      "Accuarcy Test:  88.65\n",
      "Accuracy Train:  88.76333333333334\n",
      "----------Running model for 0----------\n",
      "Cost (iteration 0) = 0.391618\n",
      "Cost (iteration 100) = 0.098717\n",
      "Cost (iteration 200) = 0.098717\n",
      "Cost (iteration 300) = 0.098717\n",
      "Cost (iteration 400) = 0.098717\n",
      "Accuarcy Test:  90.2\n",
      "Accuracy Train:  90.12833333333333\n"
     ]
    }
   ],
   "source": [
    "Xtrain = train_img_tr\n",
    "ytrain = train_label_shifted_9\n",
    "Xtest = test_img_tr\n",
    "ytest = test_label_shifted_9\n",
    "print(\"----------Running model for 9----------\")\n",
    "d9 = model (Xtrain, \n",
    "           ytrain, \n",
    "           Xtest, \n",
    "           ytest, \n",
    "           num_iterations = 500, \n",
    "           learning_rate = 0.05, \n",
    "           print_cost = True)\n",
    "\n",
    "ytrain = train_label_shifted_8\n",
    "ytest = test_label_shifted_8\n",
    "print(\"----------Running model for 8----------\")\n",
    "d8 = model (Xtrain, \n",
    "           ytrain, \n",
    "           Xtest, \n",
    "           ytest, \n",
    "           num_iterations = 500, \n",
    "           learning_rate = 0.05, \n",
    "           print_cost = True)\n",
    "\n",
    "ytrain = train_label_shifted_7\n",
    "ytest = test_label_shifted_7\n",
    "print(\"----------Running model for 7----------\")\n",
    "d7 = model (Xtrain, \n",
    "           ytrain, \n",
    "           Xtest, \n",
    "           ytest, \n",
    "           num_iterations = 500, \n",
    "           learning_rate = 0.05, \n",
    "           print_cost = True)\n",
    "\n",
    "ytrain = train_label_shifted_6\n",
    "ytest = test_label_shifted_6\n",
    "print(\"----------Running model for 6----------\")\n",
    "d6 = model (Xtrain, \n",
    "           ytrain, \n",
    "           Xtest, \n",
    "           ytest, \n",
    "           num_iterations = 500, \n",
    "           learning_rate = 0.05, \n",
    "           print_cost = True)\n",
    "\n",
    "ytrain = train_label_shifted_5\n",
    "ytest = test_label_shifted_5\n",
    "print(\"----------Running model for 5----------\")\n",
    "d5 = model (Xtrain, \n",
    "           ytrain, \n",
    "           Xtest, \n",
    "           ytest, \n",
    "           num_iterations = 500, \n",
    "           learning_rate = 0.05, \n",
    "           print_cost = True)\n",
    "\n",
    "ytrain = train_label_shifted_4\n",
    "ytest = test_label_shifted_4\n",
    "print(\"----------Running model for 4----------\")\n",
    "d4 = model (Xtrain, \n",
    "           ytrain, \n",
    "           Xtest, \n",
    "           ytest, \n",
    "           num_iterations = 500, \n",
    "           learning_rate = 0.05, \n",
    "           print_cost = True)\n",
    "\n",
    "ytrain = train_label_shifted_3\n",
    "ytest = test_label_shifted_3\n",
    "print(\"----------Running model for 3----------\")\n",
    "d3 = model (Xtrain, \n",
    "           ytrain, \n",
    "           Xtest, \n",
    "           ytest, \n",
    "           num_iterations = 500, \n",
    "           learning_rate = 0.05, \n",
    "           print_cost = True)\n",
    "\n",
    "ytrain = train_label_shifted_2\n",
    "ytest = test_label_shifted_2\n",
    "print(\"----------Running model for 2----------\")\n",
    "d2 = model (Xtrain, \n",
    "           ytrain, \n",
    "           Xtest, \n",
    "           ytest, \n",
    "           num_iterations = 500, \n",
    "           learning_rate = 0.05, \n",
    "           print_cost = True)\n",
    "\n",
    "ytrain = train_label_shifted_1\n",
    "ytest = test_label_shifted_1\n",
    "print(\"----------Running model for 1----------\")\n",
    "d1 = model (Xtrain, \n",
    "           ytrain, \n",
    "           Xtest, \n",
    "           ytest, \n",
    "           num_iterations = 500, \n",
    "           learning_rate = 0.05, \n",
    "           print_cost = True)\n",
    "\n",
    "ytrain = train_label_shifted_0\n",
    "ytest = test_label_shifted_0\n",
    "print(\"----------Running model for 0----------\")\n",
    "d0 = model (Xtrain, \n",
    "           ytrain, \n",
    "           Xtest, \n",
    "           ytest, \n",
    "           num_iterations = 500, \n",
    "           learning_rate = 0.05, \n",
    "           print_cost = True)"
   ]
  },
  {
   "cell_type": "code",
   "execution_count": 16,
   "metadata": {},
   "outputs": [
    {
     "name": "stdout",
     "output_type": "stream",
     "text": [
      "this digit most likely to be: 0\n",
      "[array([[0.]]), array([[0.]]), array([[0.]]), array([[0.]]), array([[0.]]), array([[0.]]), array([[0.]]), array([[0.]]), array([[0.]]), array([[0.]])]\n"
     ]
    },
    {
     "name": "stderr",
     "output_type": "stream",
     "text": [
      "C:\\Anaconda3\\envs\\tf\\lib\\site-packages\\ipykernel_launcher.py:2: RuntimeWarning: overflow encountered in exp\n",
      "  \n"
     ]
    }
   ],
   "source": [
    "try_set=test_img_tr[:,5]\n",
    "# print(try_set.shape)\n",
    "try_set=try_set.reshape(try_set.shape[0],1)\n",
    "# print(try_set.shape)\n",
    "res_prob=[]\n",
    "Y_0 ,prob_0=predict (d0[\"w\"], d0[\"b\"], try_set)\n",
    "Y_1 ,prob_1=predict (d1[\"w\"], d1[\"b\"], try_set)\n",
    "Y_2 ,prob_2=predict (d2[\"w\"], d2[\"b\"], try_set)\n",
    "Y_3 ,prob_3=predict (d3[\"w\"], d3[\"b\"], try_set)\n",
    "Y_4 ,prob_4=predict (d4[\"w\"], d4[\"b\"], try_set)\n",
    "Y_5 ,prob_5=predict (d5[\"w\"], d5[\"b\"], try_set)\n",
    "Y_6 ,prob_6=predict (d6[\"w\"], d6[\"b\"], try_set)\n",
    "Y_7 ,prob_7=predict (d7[\"w\"], d7[\"b\"], try_set)\n",
    "Y_8 ,prob_8=predict (d8[\"w\"], d8[\"b\"], try_set)\n",
    "Y_9,prob_9=predict (d9[\"w\"], d9[\"b\"], try_set)\n",
    "res_prob.append(prob_0)\n",
    "res_prob.append(prob_1)\n",
    "res_prob.append(prob_2)\n",
    "res_prob.append(prob_3)\n",
    "res_prob.append(prob_4)\n",
    "res_prob.append(prob_5)\n",
    "res_prob.append(prob_6)\n",
    "res_prob.append(prob_7)\n",
    "res_prob.append(prob_8)\n",
    "res_prob.append(prob_9)\n",
    "print(\"this digit most likely to be:\",np.argmax(res_prob))\n",
    "print(res_prob)\n",
    "\n",
    "\n"
   ]
  },
  {
   "cell_type": "code",
   "execution_count": 17,
   "metadata": {},
   "outputs": [],
   "source": [
    "def plot_digit(some_digit):\n",
    "    \n",
    "    some_digit_image = some_digit.reshape(28,28)\n",
    "\n",
    "    plt.imshow(some_digit_image, cmap = matplotlib.cm.binary, interpolation = \"nearest\")\n",
    "    plt.axis(\"off\")\n",
    "    plt.show()"
   ]
  },
  {
   "cell_type": "code",
   "execution_count": 18,
   "metadata": {},
   "outputs": [
    {
     "data": {
      "image/png": "[encoded data removed]",
      "text/plain": [
       "<Figure size 432x288 with 1 Axes>"
      ]
     },
     "metadata": {
      "needs_background": "light"
     },
     "output_type": "display_data"
    },
    {
     "name": "stdout",
     "output_type": "stream",
     "text": [
      "1\n"
     ]
    }
   ],
   "source": [
    "plot_digit(try_set)\n",
    "print(test_label_tr[0][5])"
   ]
  },
  {
   "cell_type": "code",
   "execution_count": 19,
   "metadata": {},
   "outputs": [
    {
     "name": "stdout",
     "output_type": "stream",
     "text": [
      "[[0.]]\n"
     ]
    }
   ],
   "source": [
    "print(Y_0)"
   ]
  },
  {
   "cell_type": "code",
   "execution_count": null,
   "metadata": {},
   "outputs": [],
   "source": []
  }
 ],
 "metadata": {
  "kernelspec": {
   "display_name": "Python 3",
   "language": "python",
   "name": "python3"
  },
  "language_info": {
   "codemirror_mode": {
    "name": "ipython",
    "version": 3
   },
   "file_extension": ".py",
   "mimetype": "text/x-python",
   "name": "python",
   "nbconvert_exporter": "python",
   "pygments_lexer": "ipython3",
   "version": "3.6.7"
  }
 },
 "nbformat": 4,
 "nbformat_minor": 2
}
