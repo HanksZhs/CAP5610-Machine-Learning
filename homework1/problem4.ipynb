{
 "cells": [
  {
   "cell_type": "code",
   "execution_count": 1,
   "metadata": {},
   "outputs": [
    {
     "name": "stderr",
     "output_type": "stream",
     "text": [
      "Using TensorFlow backend.\n"
     ]
    }
   ],
   "source": [
    "from keras.datasets import mnist \n",
    "from keras.utils import np_utils\n",
    "from keras.models import Sequential \n",
    "from keras.layers import Dense, Activation \n",
    "# the data, shuffled and split between train and test sets \n",
    "(X_train, y_train), (X_test, y_test) = mnist.load_data()\n"
   ]
  },
  {
   "cell_type": "code",
   "execution_count": 2,
   "metadata": {},
   "outputs": [],
   "source": [
    "input_dim = 784 #28*28 \n",
    "X_train = X_train.reshape(60000, input_dim) \n",
    "X_test = X_test.reshape(10000, input_dim) \n",
    "X_train = X_train.astype('float32') \n",
    "X_test = X_test.astype('float32') \n",
    "X_train /= 255 \n",
    "X_test /= 255\n",
    "output_dim = nb_classes = 10 "
   ]
  },
  {
   "cell_type": "markdown",
   "metadata": {},
   "source": [
    "Y_train = np_utils.to_categorical(y_train, 10) \n",
    "Y_test = np_utils.to_categorical(y_test, 10)"
   ]
  },
  {
   "cell_type": "code",
   "execution_count": 3,
   "metadata": {},
   "outputs": [],
   "source": [
    "Y_train = np_utils.to_categorical(y_train, nb_classes) \n",
    "Y_test = np_utils.to_categorical(y_test, nb_classes)"
   ]
  },
  {
   "cell_type": "code",
   "execution_count": 4,
   "metadata": {},
   "outputs": [],
   "source": [
    "\n",
    "model = Sequential() \n",
    "model.add(Dense(output_dim, input_dim=input_dim, activation='softmax')) \n",
    "batch_size = 128 \n",
    "nb_epoch = 70"
   ]
  },
  {
   "cell_type": "code",
   "execution_count": 5,
   "metadata": {
    "scrolled": true
   },
   "outputs": [
    {
     "name": "stderr",
     "output_type": "stream",
     "text": [
      "C:\\Anaconda3\\envs\\tf\\lib\\site-packages\\ipykernel_launcher.py:2: UserWarning: The `nb_epoch` argument in `fit` has been renamed `epochs`.\n",
      "  \n"
     ]
    },
    {
     "name": "stdout",
     "output_type": "stream",
     "text": [
      "Train on 60000 samples, validate on 10000 samples\n",
      "Epoch 1/70\n",
      "60000/60000 [==============================] - 3s 46us/step - loss: 1.2999 - acc: 0.6905 - val_loss: 0.8146 - val_acc: 0.8344\n",
      "Epoch 2/70\n",
      "60000/60000 [==============================] - 1s 17us/step - loss: 0.7169 - acc: 0.8401 - val_loss: 0.6088 - val_acc: 0.8621\n",
      "Epoch 3/70\n",
      "60000/60000 [==============================] - 1s 18us/step - loss: 0.5873 - acc: 0.8592 - val_loss: 0.5263 - val_acc: 0.8740\n",
      "Epoch 4/70\n",
      "60000/60000 [==============================] - 1s 17us/step - loss: 0.5255 - acc: 0.8687 - val_loss: 0.4804 - val_acc: 0.8817\n",
      "Epoch 5/70\n",
      "60000/60000 [==============================] - 1s 17us/step - loss: 0.4879 - acc: 0.8756 - val_loss: 0.4508 - val_acc: 0.8870\n",
      "Epoch 6/70\n",
      "60000/60000 [==============================] - 1s 17us/step - loss: 0.4622 - acc: 0.8799 - val_loss: 0.4294 - val_acc: 0.8918\n",
      "Epoch 7/70\n",
      "60000/60000 [==============================] - 1s 18us/step - loss: 0.4430 - acc: 0.8834 - val_loss: 0.4131 - val_acc: 0.8944\n",
      "Epoch 8/70\n",
      "60000/60000 [==============================] - 1s 18us/step - loss: 0.4281 - acc: 0.8861 - val_loss: 0.4004 - val_acc: 0.8963\n",
      "Epoch 9/70\n",
      "60000/60000 [==============================] - 1s 18us/step - loss: 0.4162 - acc: 0.8889 - val_loss: 0.3902 - val_acc: 0.8986\n",
      "Epoch 10/70\n",
      "60000/60000 [==============================] - 1s 18us/step - loss: 0.4062 - acc: 0.8905 - val_loss: 0.3814 - val_acc: 0.8998\n",
      "Epoch 11/70\n",
      "60000/60000 [==============================] - 1s 18us/step - loss: 0.3978 - acc: 0.8924 - val_loss: 0.3739 - val_acc: 0.9017\n",
      "Epoch 12/70\n",
      "60000/60000 [==============================] - 1s 18us/step - loss: 0.3905 - acc: 0.8935 - val_loss: 0.3675 - val_acc: 0.9031\n",
      "Epoch 13/70\n",
      "60000/60000 [==============================] - 1s 18us/step - loss: 0.3842 - acc: 0.8950 - val_loss: 0.3621 - val_acc: 0.9044\n",
      "Epoch 14/70\n",
      "60000/60000 [==============================] - 1s 18us/step - loss: 0.3786 - acc: 0.8964 - val_loss: 0.3571 - val_acc: 0.9052\n",
      "Epoch 15/70\n",
      "60000/60000 [==============================] - 1s 18us/step - loss: 0.3735 - acc: 0.8975 - val_loss: 0.3529 - val_acc: 0.9056\n",
      "Epoch 16/70\n",
      "60000/60000 [==============================] - 1s 18us/step - loss: 0.3691 - acc: 0.8984 - val_loss: 0.3489 - val_acc: 0.9070\n",
      "Epoch 17/70\n",
      "60000/60000 [==============================] - 1s 18us/step - loss: 0.3650 - acc: 0.8994 - val_loss: 0.3452 - val_acc: 0.9075\n",
      "Epoch 18/70\n",
      "60000/60000 [==============================] - 1s 18us/step - loss: 0.3612 - acc: 0.9002 - val_loss: 0.3420 - val_acc: 0.9071\n",
      "Epoch 19/70\n",
      "60000/60000 [==============================] - 1s 18us/step - loss: 0.3579 - acc: 0.9011 - val_loss: 0.3389 - val_acc: 0.9080\n",
      "Epoch 20/70\n",
      "60000/60000 [==============================] - 1s 18us/step - loss: 0.3547 - acc: 0.9019 - val_loss: 0.3362 - val_acc: 0.9089\n",
      "Epoch 21/70\n",
      "60000/60000 [==============================] - 1s 18us/step - loss: 0.3518 - acc: 0.9028 - val_loss: 0.3337 - val_acc: 0.9090\n",
      "Epoch 22/70\n",
      "60000/60000 [==============================] - 1s 18us/step - loss: 0.3490 - acc: 0.9033 - val_loss: 0.3317 - val_acc: 0.9094\n",
      "Epoch 23/70\n",
      "60000/60000 [==============================] - 1s 18us/step - loss: 0.3465 - acc: 0.9042 - val_loss: 0.3292 - val_acc: 0.9095\n",
      "Epoch 24/70\n",
      "60000/60000 [==============================] - ETA: 0s - loss: 0.3440 - acc: 0.904 - 1s 18us/step - loss: 0.3441 - acc: 0.9046 - val_loss: 0.3273 - val_acc: 0.9102\n",
      "Epoch 25/70\n",
      "60000/60000 [==============================] - 1s 18us/step - loss: 0.3419 - acc: 0.9054 - val_loss: 0.3256 - val_acc: 0.9106\n",
      "Epoch 26/70\n",
      "60000/60000 [==============================] - 1s 18us/step - loss: 0.3398 - acc: 0.9063 - val_loss: 0.3234 - val_acc: 0.9109\n",
      "Epoch 27/70\n",
      "60000/60000 [==============================] - 1s 17us/step - loss: 0.3379 - acc: 0.9065 - val_loss: 0.3217 - val_acc: 0.9120\n",
      "Epoch 28/70\n",
      "60000/60000 [==============================] - 1s 18us/step - loss: 0.3360 - acc: 0.9071 - val_loss: 0.3204 - val_acc: 0.9119\n",
      "Epoch 29/70\n",
      "60000/60000 [==============================] - 1s 18us/step - loss: 0.3342 - acc: 0.9077 - val_loss: 0.3187 - val_acc: 0.9129\n",
      "Epoch 30/70\n",
      "60000/60000 [==============================] - 1s 18us/step - loss: 0.3325 - acc: 0.9080 - val_loss: 0.3173 - val_acc: 0.9130\n",
      "Epoch 31/70\n",
      "60000/60000 [==============================] - 1s 18us/step - loss: 0.3309 - acc: 0.9085 - val_loss: 0.3161 - val_acc: 0.9134\n",
      "Epoch 32/70\n",
      "60000/60000 [==============================] - 1s 18us/step - loss: 0.3294 - acc: 0.9085 - val_loss: 0.3148 - val_acc: 0.9137\n",
      "Epoch 33/70\n",
      "60000/60000 [==============================] - 1s 18us/step - loss: 0.3280 - acc: 0.9092 - val_loss: 0.3136 - val_acc: 0.9140\n",
      "Epoch 34/70\n",
      "60000/60000 [==============================] - 1s 17us/step - loss: 0.3266 - acc: 0.9096 - val_loss: 0.3123 - val_acc: 0.9136\n",
      "Epoch 35/70\n",
      "60000/60000 [==============================] - 1s 18us/step - loss: 0.3252 - acc: 0.9098 - val_loss: 0.3113 - val_acc: 0.9146\n",
      "Epoch 36/70\n",
      "60000/60000 [==============================] - 1s 18us/step - loss: 0.3239 - acc: 0.9102 - val_loss: 0.3102 - val_acc: 0.9148\n",
      "Epoch 37/70\n",
      "60000/60000 [==============================] - 1s 18us/step - loss: 0.3227 - acc: 0.9104 - val_loss: 0.3093 - val_acc: 0.9147\n",
      "Epoch 38/70\n",
      "60000/60000 [==============================] - 1s 18us/step - loss: 0.3215 - acc: 0.9109 - val_loss: 0.3081 - val_acc: 0.9144\n",
      "Epoch 39/70\n",
      "60000/60000 [==============================] - 1s 18us/step - loss: 0.3204 - acc: 0.9110 - val_loss: 0.3072 - val_acc: 0.9148\n",
      "Epoch 40/70\n",
      "60000/60000 [==============================] - 1s 18us/step - loss: 0.3193 - acc: 0.9113 - val_loss: 0.3063 - val_acc: 0.9156\n",
      "Epoch 41/70\n",
      "60000/60000 [==============================] - 1s 18us/step - loss: 0.3182 - acc: 0.9113 - val_loss: 0.3057 - val_acc: 0.9149\n",
      "Epoch 42/70\n",
      "60000/60000 [==============================] - 1s 18us/step - loss: 0.3173 - acc: 0.9116 - val_loss: 0.3047 - val_acc: 0.9154\n",
      "Epoch 43/70\n",
      "60000/60000 [==============================] - 1s 18us/step - loss: 0.3163 - acc: 0.9123 - val_loss: 0.3038 - val_acc: 0.9155\n",
      "Epoch 44/70\n",
      "60000/60000 [==============================] - 1s 18us/step - loss: 0.3153 - acc: 0.9124 - val_loss: 0.3032 - val_acc: 0.9149\n",
      "Epoch 45/70\n",
      "60000/60000 [==============================] - 1s 18us/step - loss: 0.3144 - acc: 0.9125 - val_loss: 0.3025 - val_acc: 0.9153\n",
      "Epoch 46/70\n",
      "60000/60000 [==============================] - 1s 18us/step - loss: 0.3135 - acc: 0.9125 - val_loss: 0.3018 - val_acc: 0.9158\n",
      "Epoch 47/70\n",
      "60000/60000 [==============================] - 1s 17us/step - loss: 0.3127 - acc: 0.9130 - val_loss: 0.3009 - val_acc: 0.9158\n",
      "Epoch 48/70\n",
      "60000/60000 [==============================] - 1s 18us/step - loss: 0.3118 - acc: 0.9134 - val_loss: 0.3004 - val_acc: 0.9167\n",
      "Epoch 49/70\n",
      "60000/60000 [==============================] - 1s 18us/step - loss: 0.3110 - acc: 0.9134 - val_loss: 0.2998 - val_acc: 0.9156\n",
      "Epoch 50/70\n",
      "60000/60000 [==============================] - 1s 18us/step - loss: 0.3102 - acc: 0.9138 - val_loss: 0.2992 - val_acc: 0.9164\n",
      "Epoch 51/70\n",
      "60000/60000 [==============================] - 1s 18us/step - loss: 0.3095 - acc: 0.9139 - val_loss: 0.2987 - val_acc: 0.9164\n",
      "Epoch 52/70\n",
      "60000/60000 [==============================] - 1s 19us/step - loss: 0.3087 - acc: 0.9138 - val_loss: 0.2982 - val_acc: 0.9169\n",
      "Epoch 53/70\n",
      "60000/60000 [==============================] - 1s 19us/step - loss: 0.3080 - acc: 0.9143 - val_loss: 0.2975 - val_acc: 0.9169\n",
      "Epoch 54/70\n",
      "60000/60000 [==============================] - 1s 18us/step - loss: 0.3073 - acc: 0.9145 - val_loss: 0.2969 - val_acc: 0.9166\n",
      "Epoch 55/70\n",
      "60000/60000 [==============================] - 1s 18us/step - loss: 0.3066 - acc: 0.9148 - val_loss: 0.2963 - val_acc: 0.9171\n",
      "Epoch 56/70\n",
      "60000/60000 [==============================] - 1s 19us/step - loss: 0.3060 - acc: 0.9150 - val_loss: 0.2961 - val_acc: 0.9168\n",
      "Epoch 57/70\n",
      "60000/60000 [==============================] - 1s 18us/step - loss: 0.3053 - acc: 0.9151 - val_loss: 0.2954 - val_acc: 0.9169\n",
      "Epoch 58/70\n",
      "60000/60000 [==============================] - 1s 18us/step - loss: 0.3047 - acc: 0.9152 - val_loss: 0.2951 - val_acc: 0.9175\n",
      "Epoch 59/70\n",
      "60000/60000 [==============================] - 1s 18us/step - loss: 0.3041 - acc: 0.9156 - val_loss: 0.2946 - val_acc: 0.9176\n"
     ]
    },
    {
     "name": "stdout",
     "output_type": "stream",
     "text": [
      "Epoch 60/70\n",
      "60000/60000 [==============================] - 1s 18us/step - loss: 0.3035 - acc: 0.9156 - val_loss: 0.2940 - val_acc: 0.9178\n",
      "Epoch 61/70\n",
      "60000/60000 [==============================] - 1s 18us/step - loss: 0.3029 - acc: 0.9158 - val_loss: 0.2935 - val_acc: 0.9179\n",
      "Epoch 62/70\n",
      "60000/60000 [==============================] - 1s 18us/step - loss: 0.3023 - acc: 0.9157 - val_loss: 0.2934 - val_acc: 0.9181\n",
      "Epoch 63/70\n",
      "60000/60000 [==============================] - 1s 18us/step - loss: 0.3018 - acc: 0.9160 - val_loss: 0.2927 - val_acc: 0.9181\n",
      "Epoch 64/70\n",
      "60000/60000 [==============================] - 1s 18us/step - loss: 0.3012 - acc: 0.9160 - val_loss: 0.2924 - val_acc: 0.9186\n",
      "Epoch 65/70\n",
      "60000/60000 [==============================] - 1s 18us/step - loss: 0.3007 - acc: 0.9165 - val_loss: 0.2919 - val_acc: 0.9186\n",
      "Epoch 66/70\n",
      "60000/60000 [==============================] - 1s 18us/step - loss: 0.3002 - acc: 0.9162 - val_loss: 0.2916 - val_acc: 0.9192\n",
      "Epoch 67/70\n",
      "60000/60000 [==============================] - 1s 18us/step - loss: 0.2997 - acc: 0.9164 - val_loss: 0.2912 - val_acc: 0.9190\n",
      "Epoch 68/70\n",
      "60000/60000 [==============================] - 1s 18us/step - loss: 0.2992 - acc: 0.9168 - val_loss: 0.2910 - val_acc: 0.9184\n",
      "Epoch 69/70\n",
      "60000/60000 [==============================] - 1s 18us/step - loss: 0.2987 - acc: 0.9169 - val_loss: 0.2906 - val_acc: 0.9187\n",
      "Epoch 70/70\n",
      "60000/60000 [==============================] - 1s 18us/step - loss: 0.2982 - acc: 0.9170 - val_loss: 0.2901 - val_acc: 0.9184\n",
      "Test score: 0.29005549798607827\n",
      "Test accuracy: 0.9184\n"
     ]
    }
   ],
   "source": [
    "model.compile(optimizer='sgd', loss='categorical_crossentropy', metrics=['accuracy']) \n",
    "history = model.fit(X_train, Y_train, batch_size=batch_size, nb_epoch=nb_epoch,verbose=1, validation_data=(X_test, Y_test)) \n",
    "score = model.evaluate(X_test, Y_test, verbose=0) \n",
    "print('Test score:', score[0]) \n",
    "print('Test accuracy:', score[1])"
   ]
  },
  {
   "cell_type": "code",
   "execution_count": null,
   "metadata": {},
   "outputs": [],
   "source": []
  },
  {
   "cell_type": "code",
   "execution_count": null,
   "metadata": {},
   "outputs": [],
   "source": []
  }
 ],
 "metadata": {
  "kernelspec": {
   "display_name": "Python 3",
   "language": "python",
   "name": "python3"
  },
  "language_info": {
   "codemirror_mode": {
    "name": "ipython",
    "version": 3
   },
   "file_extension": ".py",
   "mimetype": "text/x-python",
   "name": "python",
   "nbconvert_exporter": "python",
   "pygments_lexer": "ipython3",
   "version": "3.6.7"
  }
 },
 "nbformat": 4,
 "nbformat_minor": 2
}
