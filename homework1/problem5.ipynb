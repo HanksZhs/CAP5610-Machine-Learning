{
 "cells": [
  {
   "cell_type": "code",
   "execution_count": 1,
   "metadata": {},
   "outputs": [
    {
     "name": "stderr",
     "output_type": "stream",
     "text": [
      "Using TensorFlow backend.\n"
     ]
    },
    {
     "name": "stdout",
     "output_type": "stream",
     "text": [
      "(60000, 28, 28)\n",
      "(60000, 784)\n",
      "(60000, 784)\n"
     ]
    }
   ],
   "source": [
    "from keras.datasets import mnist\n",
    "import numpy as np\n",
    "import matplotlib\n",
    "import matplotlib.pyplot as plt\n",
    "\n",
    "(train_images, train_labels), (test_images, test_labels) = mnist.load_data()\n",
    "\n",
    "print(train_images.shape)\n",
    "train_images=train_images.reshape(train_images.shape[0],train_images.shape[1]*train_images.shape[2])\n",
    "print(train_images.shape)\n",
    "test_images=test_images.reshape(test_images.shape[0],test_images.shape[1]*test_images.shape[2])\n",
    "print(train_images.shape)"
   ]
  },
  {
   "cell_type": "code",
   "execution_count": 2,
   "metadata": {},
   "outputs": [],
   "source": [
    "# normalize training img and test img\n",
    "train_images_normalised = train_images/255.0\n",
    "test_images_normalised = test_images/255.0"
   ]
  },
  {
   "cell_type": "code",
   "execution_count": 3,
   "metadata": {},
   "outputs": [
    {
     "name": "stdout",
     "output_type": "stream",
     "text": [
      "0.1306604762738429\n",
      "(60000, 784)\n"
     ]
    }
   ],
   "source": [
    "print(np.mean(train_images_normalised))\n",
    "train_images_normalised_copy=train_images_normalised.copy()\n",
    "for i in range(train_images_normalised.shape[0]):\n",
    "        for j in range(train_images_normalised.shape[1]):\n",
    "            if (train_images_normalised[i][j] > 0.5):\n",
    "                train_images_normalised_copy[i][j]=1\n",
    "            else:\n",
    "                train_images_normalised_copy[i][j]=0\n",
    "\n",
    "print(train_images_normalised_copy.shape)"
   ]
  },
  {
   "cell_type": "code",
   "execution_count": 4,
   "metadata": {},
   "outputs": [
    {
     "name": "stdout",
     "output_type": "stream",
     "text": [
      "(10000, 784)\n"
     ]
    }
   ],
   "source": [
    "\n",
    "test_images_normalised_copy=test_images_normalised.copy()\n",
    "for i in range(test_images_normalised.shape[0]):\n",
    "        for j in range(test_images_normalised.shape[1]):\n",
    "            if (test_images_normalised[i][j] > 0.5):\n",
    "                test_images_normalised_copy[i][j]=1\n",
    "            else:\n",
    "                test_images_normalised_copy[i][j]=0\n",
    "\n",
    "print(test_images_normalised_copy.shape)"
   ]
  },
  {
   "cell_type": "code",
   "execution_count": 5,
   "metadata": {},
   "outputs": [],
   "source": [
    "def plot_digit(some_digit):\n",
    "    \n",
    "    some_digit_image = some_digit.reshape(28,28)\n",
    "\n",
    "    plt.imshow(some_digit_image, cmap = matplotlib.cm.binary, interpolation = \"nearest\")\n",
    "    plt.axis(\"off\")\n",
    "    plt.show()"
   ]
  },
  {
   "cell_type": "code",
   "execution_count": 6,
   "metadata": {},
   "outputs": [],
   "source": [
    "\n",
    "#print(train_images_normalised[0].shape)\n",
    "#plot_digit(train_images_normalised[30])\n",
    "#plot_digit(train_images_normalised_copy[30])\n"
   ]
  },
  {
   "cell_type": "code",
   "execution_count": 7,
   "metadata": {},
   "outputs": [],
   "source": [
    "def find_edge(data):\n",
    "    edge=[]\n",
    "    sign=0\n",
    "    b=0\n",
    "    for i in range(0,28): \n",
    "        sign=0\n",
    "        for j in range(0,28):\n",
    "            if data[i][j]==0 and sign==1:\n",
    "                edge.append(((i*28+j),(i*28+j-1)))\n",
    "            if data[i][j]==0:\n",
    "                sign=1\n",
    "            else:\n",
    "                sign=0\n",
    "            if data[i][j]==1:\n",
    "                b=b+1\n",
    "    for j in range(0,28): \n",
    "        sign=0\n",
    "        for i in range(0,28):\n",
    "            if data[i][j]==0 and sign==1:\n",
    "                edge.append(((i*28+j),((i-1)*28+j)))\n",
    "            if data[i][j]==0:\n",
    "                sign=1\n",
    "            else:\n",
    "                sign=0\n",
    "    return edge,b"
   ]
  },
  {
   "cell_type": "code",
   "execution_count": 8,
   "metadata": {},
   "outputs": [],
   "source": [
    "#print(train_images_normalised[30].shape)\n",
    "#testlist,count_b=find_edge(train_images_normalised_copy[30].reshape(28,28))\n",
    "\n",
    "#print(count_b)"
   ]
  },
  {
   "cell_type": "code",
   "execution_count": 9,
   "metadata": {},
   "outputs": [
    {
     "data": {
      "text/plain": [
       "'\\nclass QuickUnion(object):\\n    id=[]\\n    count=0\\n    \\n    def __init__(self,n):\\n        self.count = n\\n        i=0\\n        while i<n:\\n            self.id.append(i)\\n            i+=1\\n\\n    def connected(self,p,q):\\n        if self.find(p) == self.find(q):\\n            return True\\n        else:            \\n            return False\\n    \\n    def find(self,p):   \\n        while (p != self.id[p]):\\n            p = self.id[p]\\n        return p\\n    \\n    def union(self,p,q):\\n        idq = self.find(q)\\n        idp = self.find(p)\\n        if not self.connected(p,q):\\n            self.id[idp]=idq\\n            self.count -=1\\n            \\n    def __delete__(self):\\n        print(\"deleted in descriptor object\")\\n        #del self.count\\n        # del self.id\\n        \\n'"
      ]
     },
     "execution_count": 9,
     "metadata": {},
     "output_type": "execute_result"
    }
   ],
   "source": [
    "\"\"\"\n",
    "class QuickUnion(object):\n",
    "    id=[]\n",
    "    count=0\n",
    "    \n",
    "    def __init__(self,n):\n",
    "        self.count = n\n",
    "        i=0\n",
    "        while i<n:\n",
    "            self.id.append(i)\n",
    "            i+=1\n",
    "\n",
    "    def connected(self,p,q):\n",
    "        if self.find(p) == self.find(q):\n",
    "            return True\n",
    "        else:            \n",
    "            return False\n",
    "    \n",
    "    def find(self,p):   \n",
    "        while (p != self.id[p]):\n",
    "            p = self.id[p]\n",
    "        return p\n",
    "    \n",
    "    def union(self,p,q):\n",
    "        idq = self.find(q)\n",
    "        idp = self.find(p)\n",
    "        if not self.connected(p,q):\n",
    "            self.id[idp]=idq\n",
    "            self.count -=1\n",
    "            \n",
    "    def __delete__(self):\n",
    "        print(\"deleted in descriptor object\")\n",
    "        #del self.count\n",
    "        # del self.id\n",
    "        \n",
    "\"\"\""
   ]
  },
  {
   "cell_type": "code",
   "execution_count": 10,
   "metadata": {
    "scrolled": true
   },
   "outputs": [
    {
     "name": "stdout",
     "output_type": "stream",
     "text": [
      "(60000, 785)\n",
      "(10000, 785)\n"
     ]
    }
   ],
   "source": [
    "res_train=np.zeros((train_images_normalised.shape[0],(train_images_normalised.shape[1]+1)))\n",
    "res_test=np.zeros((test_images_normalised.shape[0],(test_images_normalised.shape[1]+1)))\n",
    "print(res_train.shape)\n",
    "print(res_test.shape)"
   ]
  },
  {
   "cell_type": "code",
   "execution_count": 11,
   "metadata": {},
   "outputs": [
    {
     "data": {
      "text/plain": [
       "'\\nfor i in range (train_images_normalised_copy.shape[0]):\\n    testlist,count_b=find_edge(train_images_normalised_copy[i].reshape(28,28))\\n    print(count_b)\\n    qf = QuickUnion(28*28)\\n    for k in testlist:\\n        p =  k[0]\\n        q =  k[1]\\n        qf.union(p,q)\\n    \\n    \\n    print(\"res:\",qf.count-count_b)\\n    res_train[i]=np.append(train_images_normalised[i],qf.count-count_b)\\n    testlist=[]\\n    count_b=0\\n    qf=0\\n'"
      ]
     },
     "execution_count": 11,
     "metadata": {},
     "output_type": "execute_result"
    }
   ],
   "source": [
    "\"\"\"\n",
    "for i in range (train_images_normalised_copy.shape[0]):\n",
    "    testlist,count_b=find_edge(train_images_normalised_copy[i].reshape(28,28))\n",
    "    print(count_b)\n",
    "    qf = QuickUnion(28*28)\n",
    "    for k in testlist:\n",
    "        p =  k[0]\n",
    "        q =  k[1]\n",
    "        qf.union(p,q)\n",
    "    \n",
    "    \n",
    "    print(\"res:\",qf.count-count_b)\n",
    "    res_train[i]=np.append(train_images_normalised[i],qf.count-count_b)\n",
    "    testlist=[]\n",
    "    count_b=0\n",
    "    qf=0\n",
    "\"\"\""
   ]
  },
  {
   "cell_type": "code",
   "execution_count": 12,
   "metadata": {},
   "outputs": [
    {
     "data": {
      "text/plain": [
       "'\\ntestlist,count_b=find_edge(train_images_normalised_copy[2].reshape(28,28))\\nprint(count_b)\\nqf = QuickUnion(28*28)\\nfor k in testlist:\\n    p =  k[0]\\n    q =  k[1]\\n    qf.union(p,q)\\n    \\nprint(\"qf:\",qf.count)    \\nprint(\"res:\",qf.count-count_b)\\n'"
      ]
     },
     "execution_count": 12,
     "metadata": {},
     "output_type": "execute_result"
    }
   ],
   "source": [
    "\"\"\"\n",
    "testlist,count_b=find_edge(train_images_normalised_copy[2].reshape(28,28))\n",
    "print(count_b)\n",
    "qf = QuickUnion(28*28)\n",
    "for k in testlist:\n",
    "    p =  k[0]\n",
    "    q =  k[1]\n",
    "    qf.union(p,q)\n",
    "    \n",
    "print(\"qf:\",qf.count)    \n",
    "print(\"res:\",qf.count-count_b)\n",
    "\"\"\""
   ]
  },
  {
   "cell_type": "code",
   "execution_count": 13,
   "metadata": {},
   "outputs": [],
   "source": [
    "for i in range (train_images_normalised_copy.shape[0]):\n",
    "    class QuickUnion(object):\n",
    "        id=[]\n",
    "        count=0\n",
    "    \n",
    "        def __init__(self,n):\n",
    "            self.count = n\n",
    "            i=0\n",
    "            while i<n:\n",
    "                self.id.append(i)\n",
    "                i+=1\n",
    "\n",
    "        def connected(self,p,q):\n",
    "            if self.find(p) == self.find(q):\n",
    "                return True\n",
    "            else:            \n",
    "                return False\n",
    "    \n",
    "        def find(self,p):   \n",
    "            while (p != self.id[p]):\n",
    "                p = self.id[p]\n",
    "            return p\n",
    "    \n",
    "        def union(self,p,q):\n",
    "            idq = self.find(q)\n",
    "            idp = self.find(p)\n",
    "            if not self.connected(p,q):\n",
    "                self.id[idp]=idq\n",
    "                self.count -=1\n",
    "            \n",
    "\n",
    "    testlist,count_b=find_edge(train_images_normalised_copy[i].reshape(28,28))\n",
    "    #print(count_b)\n",
    "    qf = QuickUnion(28*28)\n",
    "    for k in testlist:\n",
    "        p =  k[0]\n",
    "        q =  k[1]\n",
    "        qf.union(p,q)\n",
    "    \n",
    "    \n",
    "    #print(\"res:\",qf.count-count_b)\n",
    "    res_train[i]=np.append(train_images_normalised[i],qf.count-count_b)\n",
    "    testlist=[]\n",
    "    count_b=0\n",
    "    qf=0"
   ]
  },
  {
   "cell_type": "code",
   "execution_count": 14,
   "metadata": {},
   "outputs": [],
   "source": [
    "for i in range (test_images_normalised_copy.shape[0]):\n",
    "    class QuickUnion(object):\n",
    "        id=[]\n",
    "        count=0\n",
    "    \n",
    "        def __init__(self,n):\n",
    "            self.count = n\n",
    "            i=0\n",
    "            while i<n:\n",
    "                self.id.append(i)\n",
    "                i+=1\n",
    "\n",
    "        def connected(self,p,q):\n",
    "            if self.find(p) == self.find(q):\n",
    "                return True\n",
    "            else:            \n",
    "                return False\n",
    "    \n",
    "        def find(self,p):   \n",
    "            while (p != self.id[p]):\n",
    "                p = self.id[p]\n",
    "            return p\n",
    "    \n",
    "        def union(self,p,q):\n",
    "            idq = self.find(q)\n",
    "            idp = self.find(p)\n",
    "            if not self.connected(p,q):\n",
    "                self.id[idp]=idq\n",
    "                self.count -=1\n",
    "            \n",
    "\n",
    "    testlist,count_b=find_edge(test_images_normalised_copy[i].reshape(28,28))\n",
    "    #print(count_b)\n",
    "    qf = QuickUnion(28*28)\n",
    "    for k in testlist:\n",
    "        p =  k[0]\n",
    "        q =  k[1]\n",
    "        qf.union(p,q)\n",
    "    \n",
    "    \n",
    "    #print(\"res:\",qf.count-count_b)\n",
    "    res_test[i]=np.append(test_images_normalised[i],qf.count-count_b)\n",
    "    testlist=[]\n",
    "    count_b=0\n",
    "    qf=0"
   ]
  },
  {
   "cell_type": "code",
   "execution_count": 15,
   "metadata": {},
   "outputs": [],
   "source": [
    "from keras.utils import np_utils\n",
    "from keras.models import Sequential \n",
    "from keras.layers import Dense, Activation \n",
    "input_dim = 785 #28*28 +1\n",
    "output_dim = nb_classes = 10 \n",
    "Y_train = np_utils.to_categorical(train_labels, nb_classes) \n",
    "Y_test = np_utils.to_categorical(test_labels, nb_classes)"
   ]
  },
  {
   "cell_type": "code",
   "execution_count": 19,
   "metadata": {},
   "outputs": [],
   "source": [
    "model = Sequential() \n",
    "model.add(Dense(output_dim, input_dim=input_dim, activation='softmax')) \n",
    "batch_size = 128 \n",
    "nb_epoch = 60"
   ]
  },
  {
   "cell_type": "code",
   "execution_count": 20,
   "metadata": {},
   "outputs": [
    {
     "name": "stderr",
     "output_type": "stream",
     "text": [
      "C:\\Anaconda3\\envs\\tf\\lib\\site-packages\\ipykernel_launcher.py:2: UserWarning: The `nb_epoch` argument in `fit` has been renamed `epochs`.\n",
      "  \n"
     ]
    },
    {
     "name": "stdout",
     "output_type": "stream",
     "text": [
      "Train on 60000 samples, validate on 10000 samples\n",
      "Epoch 1/60\n",
      "60000/60000 [==============================] - 1s 22us/step - loss: 1.2718 - acc: 0.7114 - val_loss: 0.7847 - val_acc: 0.8460\n",
      "Epoch 2/60\n",
      "60000/60000 [==============================] - 1s 21us/step - loss: 0.6841 - acc: 0.8561 - val_loss: 0.5769 - val_acc: 0.8739\n",
      "Epoch 3/60\n",
      "60000/60000 [==============================] - 1s 20us/step - loss: 0.5526 - acc: 0.8745 - val_loss: 0.4936 - val_acc: 0.8857\n",
      "Epoch 4/60\n",
      "60000/60000 [==============================] - 1s 20us/step - loss: 0.4893 - acc: 0.8829 - val_loss: 0.4466 - val_acc: 0.8927\n",
      "Epoch 5/60\n",
      "60000/60000 [==============================] - 1s 20us/step - loss: 0.4505 - acc: 0.8891 - val_loss: 0.4160 - val_acc: 0.8993\n",
      "Epoch 6/60\n",
      "60000/60000 [==============================] - 1s 20us/step - loss: 0.4237 - acc: 0.8946 - val_loss: 0.3938 - val_acc: 0.9020\n",
      "Epoch 7/60\n",
      "60000/60000 [==============================] - 1s 20us/step - loss: 0.4037 - acc: 0.8979 - val_loss: 0.3768 - val_acc: 0.9061\n",
      "Epoch 8/60\n",
      "60000/60000 [==============================] - 1s 20us/step - loss: 0.3882 - acc: 0.9009 - val_loss: 0.3637 - val_acc: 0.9084\n",
      "Epoch 9/60\n",
      "60000/60000 [==============================] - 1s 20us/step - loss: 0.3756 - acc: 0.9030 - val_loss: 0.3526 - val_acc: 0.9104\n",
      "Epoch 10/60\n",
      "60000/60000 [==============================] - 1s 20us/step - loss: 0.3652 - acc: 0.9052 - val_loss: 0.3435 - val_acc: 0.9128\n",
      "Epoch 11/60\n",
      "60000/60000 [==============================] - 1s 20us/step - loss: 0.3563 - acc: 0.9070 - val_loss: 0.3354 - val_acc: 0.9132\n",
      "Epoch 12/60\n",
      "60000/60000 [==============================] - 1s 20us/step - loss: 0.3486 - acc: 0.9082 - val_loss: 0.3288 - val_acc: 0.9145\n",
      "Epoch 13/60\n",
      "60000/60000 [==============================] - 1s 20us/step - loss: 0.3419 - acc: 0.9100 - val_loss: 0.3229 - val_acc: 0.9162\n",
      "Epoch 14/60\n",
      "60000/60000 [==============================] - 1s 19us/step - loss: 0.3360 - acc: 0.9112 - val_loss: 0.3178 - val_acc: 0.9166\n",
      "Epoch 15/60\n",
      "60000/60000 [==============================] - 1s 20us/step - loss: 0.3307 - acc: 0.9122 - val_loss: 0.3130 - val_acc: 0.9177\n",
      "Epoch 16/60\n",
      "60000/60000 [==============================] - 1s 20us/step - loss: 0.3259 - acc: 0.9133 - val_loss: 0.3090 - val_acc: 0.9183\n",
      "Epoch 17/60\n",
      "60000/60000 [==============================] - 1s 20us/step - loss: 0.3216 - acc: 0.9144 - val_loss: 0.3051 - val_acc: 0.9193\n",
      "Epoch 18/60\n",
      "60000/60000 [==============================] - 1s 20us/step - loss: 0.3177 - acc: 0.9149 - val_loss: 0.3014 - val_acc: 0.9205\n",
      "Epoch 19/60\n",
      "60000/60000 [==============================] - 1s 20us/step - loss: 0.3140 - acc: 0.9155 - val_loss: 0.2983 - val_acc: 0.9208\n",
      "Epoch 20/60\n",
      "60000/60000 [==============================] - 1s 20us/step - loss: 0.3107 - acc: 0.9162 - val_loss: 0.2953 - val_acc: 0.9214\n",
      "Epoch 21/60\n",
      "60000/60000 [==============================] - 1s 20us/step - loss: 0.3076 - acc: 0.9169 - val_loss: 0.2928 - val_acc: 0.9227\n",
      "Epoch 22/60\n",
      "60000/60000 [==============================] - 1s 20us/step - loss: 0.3047 - acc: 0.9176 - val_loss: 0.2902 - val_acc: 0.9228\n",
      "Epoch 23/60\n",
      "60000/60000 [==============================] - 1s 20us/step - loss: 0.3020 - acc: 0.9180 - val_loss: 0.2876 - val_acc: 0.9230\n",
      "Epoch 24/60\n",
      "60000/60000 [==============================] - 1s 20us/step - loss: 0.2994 - acc: 0.9187 - val_loss: 0.2854 - val_acc: 0.9230\n",
      "Epoch 25/60\n",
      "60000/60000 [==============================] - 1s 20us/step - loss: 0.2971 - acc: 0.9189 - val_loss: 0.2837 - val_acc: 0.9244\n",
      "Epoch 26/60\n",
      "60000/60000 [==============================] - 1s 20us/step - loss: 0.2949 - acc: 0.9196 - val_loss: 0.2815 - val_acc: 0.9241\n",
      "Epoch 27/60\n",
      "60000/60000 [==============================] - 1s 20us/step - loss: 0.2927 - acc: 0.9204 - val_loss: 0.2796 - val_acc: 0.9241\n",
      "Epoch 28/60\n",
      "60000/60000 [==============================] - 1s 20us/step - loss: 0.2908 - acc: 0.9207 - val_loss: 0.2777 - val_acc: 0.9242\n",
      "Epoch 29/60\n",
      "60000/60000 [==============================] - 1s 20us/step - loss: 0.2889 - acc: 0.9210 - val_loss: 0.2765 - val_acc: 0.9248\n",
      "Epoch 30/60\n",
      "60000/60000 [==============================] - 1s 20us/step - loss: 0.2871 - acc: 0.9215 - val_loss: 0.2748 - val_acc: 0.9253\n",
      "Epoch 31/60\n",
      "60000/60000 [==============================] - 1s 20us/step - loss: 0.2853 - acc: 0.9219 - val_loss: 0.2731 - val_acc: 0.9256\n",
      "Epoch 32/60\n",
      "60000/60000 [==============================] - 1s 20us/step - loss: 0.2838 - acc: 0.9223 - val_loss: 0.2717 - val_acc: 0.9261\n",
      "Epoch 33/60\n",
      "60000/60000 [==============================] - 1s 20us/step - loss: 0.2822 - acc: 0.9223 - val_loss: 0.2704 - val_acc: 0.9261\n",
      "Epoch 34/60\n",
      "60000/60000 [==============================] - 1s 20us/step - loss: 0.2807 - acc: 0.9229 - val_loss: 0.2692 - val_acc: 0.9269\n",
      "Epoch 35/60\n",
      "60000/60000 [==============================] - 1s 20us/step - loss: 0.2793 - acc: 0.9233 - val_loss: 0.2681 - val_acc: 0.9279\n",
      "Epoch 36/60\n",
      "60000/60000 [==============================] - 1s 20us/step - loss: 0.2779 - acc: 0.9237 - val_loss: 0.2669 - val_acc: 0.9280\n",
      "Epoch 37/60\n",
      "60000/60000 [==============================] - 1s 20us/step - loss: 0.2766 - acc: 0.9240 - val_loss: 0.2658 - val_acc: 0.9285\n",
      "Epoch 38/60\n",
      "60000/60000 [==============================] - 1s 20us/step - loss: 0.2754 - acc: 0.9244 - val_loss: 0.2647 - val_acc: 0.9282\n",
      "Epoch 39/60\n",
      "60000/60000 [==============================] - 1s 19us/step - loss: 0.2741 - acc: 0.9246 - val_loss: 0.2640 - val_acc: 0.9281\n",
      "Epoch 40/60\n",
      "60000/60000 [==============================] - 1s 20us/step - loss: 0.2729 - acc: 0.9248 - val_loss: 0.2626 - val_acc: 0.9293\n",
      "Epoch 41/60\n",
      "60000/60000 [==============================] - 1s 19us/step - loss: 0.2718 - acc: 0.9247 - val_loss: 0.2617 - val_acc: 0.9290\n",
      "Epoch 42/60\n",
      "60000/60000 [==============================] - 1s 20us/step - loss: 0.2708 - acc: 0.9252 - val_loss: 0.2609 - val_acc: 0.9294\n",
      "Epoch 43/60\n",
      "60000/60000 [==============================] - 1s 20us/step - loss: 0.2697 - acc: 0.9254 - val_loss: 0.2600 - val_acc: 0.9293\n",
      "Epoch 44/60\n",
      "60000/60000 [==============================] - 1s 20us/step - loss: 0.2687 - acc: 0.9256 - val_loss: 0.2592 - val_acc: 0.9291\n",
      "Epoch 45/60\n",
      "60000/60000 [==============================] - 1s 20us/step - loss: 0.2677 - acc: 0.9259 - val_loss: 0.2581 - val_acc: 0.9300\n",
      "Epoch 46/60\n",
      "60000/60000 [==============================] - 1s 20us/step - loss: 0.2668 - acc: 0.9262 - val_loss: 0.2576 - val_acc: 0.9299\n",
      "Epoch 47/60\n",
      "60000/60000 [==============================] - 1s 20us/step - loss: 0.2658 - acc: 0.9262 - val_loss: 0.2567 - val_acc: 0.9302\n",
      "Epoch 48/60\n",
      "60000/60000 [==============================] - 1s 20us/step - loss: 0.2650 - acc: 0.9267 - val_loss: 0.2561 - val_acc: 0.9301\n",
      "Epoch 49/60\n",
      "60000/60000 [==============================] - 1s 20us/step - loss: 0.2641 - acc: 0.9268 - val_loss: 0.2554 - val_acc: 0.9302\n",
      "Epoch 50/60\n",
      "60000/60000 [==============================] - 1s 21us/step - loss: 0.2632 - acc: 0.9272 - val_loss: 0.2547 - val_acc: 0.9305\n",
      "Epoch 51/60\n",
      "60000/60000 [==============================] - 1s 21us/step - loss: 0.2624 - acc: 0.9274 - val_loss: 0.2540 - val_acc: 0.9311\n",
      "Epoch 52/60\n",
      "60000/60000 [==============================] - 1s 21us/step - loss: 0.2617 - acc: 0.9272 - val_loss: 0.2535 - val_acc: 0.9308\n",
      "Epoch 53/60\n",
      "60000/60000 [==============================] - 1s 21us/step - loss: 0.2609 - acc: 0.9275 - val_loss: 0.2528 - val_acc: 0.9314\n",
      "Epoch 54/60\n",
      "60000/60000 [==============================] - 1s 21us/step - loss: 0.2601 - acc: 0.9278 - val_loss: 0.2522 - val_acc: 0.9312\n",
      "Epoch 55/60\n",
      "60000/60000 [==============================] - 1s 20us/step - loss: 0.2594 - acc: 0.9280 - val_loss: 0.2515 - val_acc: 0.9314\n",
      "Epoch 56/60\n",
      "60000/60000 [==============================] - 1s 20us/step - loss: 0.2587 - acc: 0.9280 - val_loss: 0.2509 - val_acc: 0.9316\n",
      "Epoch 57/60\n",
      "60000/60000 [==============================] - 1s 20us/step - loss: 0.2580 - acc: 0.9284 - val_loss: 0.2503 - val_acc: 0.9312\n",
      "Epoch 58/60\n",
      "60000/60000 [==============================] - 1s 20us/step - loss: 0.2573 - acc: 0.9286 - val_loss: 0.2498 - val_acc: 0.9322\n",
      "Epoch 59/60\n",
      "60000/60000 [==============================] - 1s 20us/step - loss: 0.2566 - acc: 0.9286 - val_loss: 0.2491 - val_acc: 0.9319\n",
      "Epoch 60/60\n"
     ]
    },
    {
     "name": "stdout",
     "output_type": "stream",
     "text": [
      "60000/60000 [==============================] - 1s 20us/step - loss: 0.2560 - acc: 0.9288 - val_loss: 0.2489 - val_acc: 0.9317\n",
      "Test score: 0.24891998623609543\n",
      "Test accuracy: 0.9317\n"
     ]
    }
   ],
   "source": [
    "model.compile(optimizer='sgd', loss='categorical_crossentropy', metrics=['accuracy']) \n",
    "history = model.fit(res_train, Y_train, batch_size=batch_size, nb_epoch=nb_epoch,verbose=1, validation_data=(res_test, Y_test)) \n",
    "score = model.evaluate(res_test, Y_test, verbose=0) \n",
    "print('Test score:', score[0]) \n",
    "print('Test accuracy:', score[1])"
   ]
  },
  {
   "cell_type": "code",
   "execution_count": null,
   "metadata": {},
   "outputs": [],
   "source": []
  }
 ],
 "metadata": {
  "kernelspec": {
   "display_name": "Python 3",
   "language": "python",
   "name": "python3"
  },
  "language_info": {
   "codemirror_mode": {
    "name": "ipython",
    "version": 3
   },
   "file_extension": ".py",
   "mimetype": "text/x-python",
   "name": "python",
   "nbconvert_exporter": "python",
   "pygments_lexer": "ipython3",
   "version": "3.6.7"
  }
 },
 "nbformat": 4,
 "nbformat_minor": 2
}
