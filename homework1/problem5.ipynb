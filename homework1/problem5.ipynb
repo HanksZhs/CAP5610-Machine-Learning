{
 "cells": [
  {
   "cell_type": "code",
   "execution_count": 1,
   "metadata": {},
   "outputs": [
    {
     "name": "stderr",
     "output_type": "stream",
     "text": [
      "Using TensorFlow backend.\n"
     ]
    },
    {
     "name": "stdout",
     "output_type": "stream",
     "text": [
      "(60000, 28, 28)\n",
      "(60000, 784)\n",
      "(60000, 784)\n"
     ]
    }
   ],
   "source": [
    "from keras.datasets import mnist\n",
    "import numpy as np\n",
    "import matplotlib\n",
    "import matplotlib.pyplot as plt\n",
    "\n",
    "(train_images, train_labels), (test_images, test_labels) = mnist.load_data()\n",
    "\n",
    "print(train_images.shape)\n",
    "train_images=train_images.reshape(train_images.shape[0],train_images.shape[1]*train_images.shape[2])\n",
    "print(train_images.shape)\n",
    "test_images=test_images.reshape(test_images.shape[0],test_images.shape[1]*test_images.shape[2])\n",
    "print(train_images.shape)"
   ]
  },
  {
   "cell_type": "code",
   "execution_count": 2,
   "metadata": {},
   "outputs": [],
   "source": [
    "# normalize training img and test img\n",
    "train_images_normalised = train_images/255.0\n",
    "test_images_normalised = test_images/255.0"
   ]
  },
  {
   "cell_type": "code",
   "execution_count": 3,
   "metadata": {},
   "outputs": [
    {
     "name": "stdout",
     "output_type": "stream",
     "text": [
      "0.1306604762738429\n",
      "(60000, 784)\n"
     ]
    }
   ],
   "source": [
    "print(np.mean(train_images_normalised))\n",
    "train_images_normalised_copy=train_images_normalised.copy()\n",
    "for i in range(train_images_normalised.shape[0]):\n",
    "        for j in range(train_images_normalised.shape[1]):\n",
    "            if (train_images_normalised[i][j] > 0.5):\n",
    "                train_images_normalised_copy[i][j]=1\n",
    "            else:\n",
    "                train_images_normalised_copy[i][j]=0\n",
    "\n",
    "print(train_images_normalised_copy.shape)"
   ]
  },
  {
   "cell_type": "code",
   "execution_count": 4,
   "metadata": {},
   "outputs": [
    {
     "name": "stdout",
     "output_type": "stream",
     "text": [
      "(10000, 784)\n"
     ]
    }
   ],
   "source": [
    "\n",
    "test_images_normalised_copy=test_images_normalised.copy()\n",
    "for i in range(test_images_normalised.shape[0]):\n",
    "        for j in range(test_images_normalised.shape[1]):\n",
    "            if (test_images_normalised[i][j] > 0.5):\n",
    "                test_images_normalised_copy[i][j]=1\n",
    "            else:\n",
    "                test_images_normalised_copy[i][j]=0\n",
    "\n",
    "print(test_images_normalised_copy.shape)"
   ]
  },
  {
   "cell_type": "code",
   "execution_count": 5,
   "metadata": {},
   "outputs": [],
   "source": [
    "def plot_digit(some_digit):\n",
    "    \n",
    "    some_digit_image = some_digit.reshape(28,28)\n",
    "\n",
    "    plt.imshow(some_digit_image, cmap = matplotlib.cm.binary, interpolation = \"nearest\")\n",
    "    plt.axis(\"off\")\n",
    "    plt.show()"
   ]
  },
  {
   "cell_type": "code",
   "execution_count": 6,
   "metadata": {},
   "outputs": [],
   "source": [
    "\n",
    "#print(train_images_normalised[0].shape)\n",
    "#plot_digit(train_images_normalised[30])\n",
    "#plot_digit(train_images_normalised_copy[30])\n"
   ]
  },
  {
   "cell_type": "code",
   "execution_count": 7,
   "metadata": {},
   "outputs": [],
   "source": [
    "def find_edge(data):\n",
    "    edge=[]\n",
    "    sign=0\n",
    "    b=0\n",
    "    for i in range(0,28): \n",
    "        sign=0\n",
    "        for j in range(0,28):\n",
    "            if data[i][j]==0 and sign==1:\n",
    "                edge.append(((i*28+j),(i*28+j-1)))\n",
    "            if data[i][j]==0:\n",
    "                sign=1\n",
    "            else:\n",
    "                sign=0\n",
    "            if data[i][j]==1:\n",
    "                b=b+1\n",
    "    for j in range(0,28): \n",
    "        sign=0\n",
    "        for i in range(0,28):\n",
    "            if data[i][j]==0 and sign==1:\n",
    "                edge.append(((i*28+j),((i-1)*28+j)))\n",
    "            if data[i][j]==0:\n",
    "                sign=1\n",
    "            else:\n",
    "                sign=0\n",
    "    return edge,b"
   ]
  },
  {
   "cell_type": "code",
   "execution_count": 8,
   "metadata": {},
   "outputs": [],
   "source": [
    "#print(train_images_normalised[30].shape)\n",
    "#testlist,count_b=find_edge(train_images_normalised_copy[30].reshape(28,28))\n",
    "\n",
    "#print(count_b)"
   ]
  },
  {
   "cell_type": "code",
   "execution_count": 9,
   "metadata": {
    "scrolled": true
   },
   "outputs": [
    {
     "name": "stdout",
     "output_type": "stream",
     "text": [
      "(60000, 785)\n",
      "(10000, 785)\n"
     ]
    }
   ],
   "source": [
    "res_train=np.zeros((train_images_normalised.shape[0],(train_images_normalised.shape[1]+1)))\n",
    "res_test=np.zeros((test_images_normalised.shape[0],(test_images_normalised.shape[1]+1)))\n",
    "print(res_train.shape)\n",
    "print(res_test.shape)"
   ]
  },
  {
   "cell_type": "code",
   "execution_count": 10,
   "metadata": {},
   "outputs": [],
   "source": [
    "for i in range (train_images_normalised_copy.shape[0]):\n",
    "    class QuickUnion(object):\n",
    "        id=[]\n",
    "        count=0\n",
    "    \n",
    "        def __init__(self,n):\n",
    "            self.count = n\n",
    "            i=0\n",
    "            while i<n:\n",
    "                self.id.append(i)\n",
    "                i+=1\n",
    "\n",
    "        def connected(self,p,q):\n",
    "            if self.find(p) == self.find(q):\n",
    "                return True\n",
    "            else:            \n",
    "                return False\n",
    "    \n",
    "        def find(self,p):   \n",
    "            while (p != self.id[p]):\n",
    "                p = self.id[p]\n",
    "            return p\n",
    "    \n",
    "        def union(self,p,q):\n",
    "            idq = self.find(q)\n",
    "            idp = self.find(p)\n",
    "            if not self.connected(p,q):\n",
    "                self.id[idp]=idq\n",
    "                self.count -=1\n",
    "            \n",
    "\n",
    "    testlist,count_b=find_edge(train_images_normalised_copy[i].reshape(28,28))\n",
    "    #print(count_b)\n",
    "    qf = QuickUnion(28*28)\n",
    "    for k in testlist:\n",
    "        p =  k[0]\n",
    "        q =  k[1]\n",
    "        qf.union(p,q)\n",
    "    \n",
    "    \n",
    "    #print(\"res:\",qf.count-count_b)\n",
    "    res_train[i]=np.append(train_images_normalised[i],(qf.count-count_b)/3)\n",
    "    testlist=[]\n",
    "    count_b=0\n",
    "    qf=0"
   ]
  },
  {
   "cell_type": "code",
   "execution_count": 11,
   "metadata": {},
   "outputs": [],
   "source": [
    "#Using union find to add new features\n",
    "for i in range (test_images_normalised_copy.shape[0]):\n",
    "    class QuickUnion(object):\n",
    "        id=[]\n",
    "        count=0\n",
    "    \n",
    "        def __init__(self,n):\n",
    "            self.count = n\n",
    "            i=0\n",
    "            while i<n:\n",
    "                self.id.append(i)\n",
    "                i+=1\n",
    "\n",
    "        def connected(self,p,q):\n",
    "            if self.find(p) == self.find(q):\n",
    "                return True\n",
    "            else:            \n",
    "                return False\n",
    "    \n",
    "        def find(self,p):   \n",
    "            while (p != self.id[p]):\n",
    "                p = self.id[p]\n",
    "            return p\n",
    "    \n",
    "        def union(self,p,q):\n",
    "            idq = self.find(q)\n",
    "            idp = self.find(p)\n",
    "            if not self.connected(p,q):\n",
    "                self.id[idp]=idq\n",
    "                self.count -=1\n",
    "            \n",
    "\n",
    "    testlist,count_b=find_edge(test_images_normalised_copy[i].reshape(28,28))\n",
    "    #print(count_b)\n",
    "    qf = QuickUnion(28*28)\n",
    "    for k in testlist:\n",
    "        p =  k[0]\n",
    "        q =  k[1]\n",
    "        qf.union(p,q)\n",
    "    \n",
    "    \n",
    "    #print(\"res:\",qf.count-count_b)\n",
    "    res_test[i]=np.append(test_images_normalised[i],(qf.count-count_b)/3)\n",
    "    testlist=[]\n",
    "    count_b=0\n",
    "    qf=0"
   ]
  },
  {
   "cell_type": "code",
   "execution_count": 12,
   "metadata": {},
   "outputs": [],
   "source": [
    "from keras.utils import np_utils\n",
    "from keras.models import Sequential \n",
    "from keras.layers import Dense, Activation \n",
    "input_dim = 785 #28*28 +1\n",
    "output_dim = nb_classes = 10 \n",
    "Y_train = np_utils.to_categorical(train_labels, nb_classes) \n",
    "Y_test = np_utils.to_categorical(test_labels, nb_classes)"
   ]
  },
  {
   "cell_type": "code",
   "execution_count": 13,
   "metadata": {},
   "outputs": [],
   "source": [
    "model = Sequential() \n",
    "model.add(Dense(output_dim, input_dim=input_dim, activation='softmax')) \n",
    "batch_size = 128 \n",
    "nb_epoch = 70"
   ]
  },
  {
   "cell_type": "code",
   "execution_count": 14,
   "metadata": {
    "scrolled": true
   },
   "outputs": [
    {
     "name": "stderr",
     "output_type": "stream",
     "text": [
      "C:\\Anaconda3\\envs\\tf\\lib\\site-packages\\ipykernel_launcher.py:2: UserWarning: The `nb_epoch` argument in `fit` has been renamed `epochs`.\n",
      "  \n"
     ]
    },
    {
     "name": "stdout",
     "output_type": "stream",
     "text": [
      "Train on 60000 samples, validate on 10000 samples\n",
      "Epoch 1/70\n",
      "60000/60000 [==============================] - 3s 53us/step - loss: 1.2723 - acc: 0.7056 - val_loss: 0.8069 - val_acc: 0.8359\n",
      "Epoch 2/70\n",
      "60000/60000 [==============================] - 1s 19us/step - loss: 0.7091 - acc: 0.8433 - val_loss: 0.6026 - val_acc: 0.8634\n",
      "Epoch 3/70\n",
      "60000/60000 [==============================] - 1s 19us/step - loss: 0.5803 - acc: 0.8616 - val_loss: 0.5205 - val_acc: 0.8757\n",
      "Epoch 4/70\n",
      "60000/60000 [==============================] - 1s 19us/step - loss: 0.5181 - acc: 0.8722 - val_loss: 0.4742 - val_acc: 0.8831\n",
      "Epoch 5/70\n",
      "60000/60000 [==============================] - 1s 19us/step - loss: 0.4798 - acc: 0.8783 - val_loss: 0.4433 - val_acc: 0.8890\n",
      "Epoch 6/70\n",
      "60000/60000 [==============================] - 1s 19us/step - loss: 0.4533 - acc: 0.8836 - val_loss: 0.4212 - val_acc: 0.8931\n",
      "Epoch 7/70\n",
      "60000/60000 [==============================] - 1s 19us/step - loss: 0.4335 - acc: 0.8872 - val_loss: 0.4045 - val_acc: 0.8965\n",
      "Epoch 8/70\n",
      "60000/60000 [==============================] - 1s 19us/step - loss: 0.4180 - acc: 0.8904 - val_loss: 0.3909 - val_acc: 0.8986\n",
      "Epoch 9/70\n",
      "60000/60000 [==============================] - 1s 19us/step - loss: 0.4054 - acc: 0.8930 - val_loss: 0.3798 - val_acc: 0.9008\n",
      "Epoch 10/70\n",
      "60000/60000 [==============================] - 1s 19us/step - loss: 0.3949 - acc: 0.8953 - val_loss: 0.3708 - val_acc: 0.9028\n",
      "Epoch 11/70\n",
      "60000/60000 [==============================] - 1s 20us/step - loss: 0.3859 - acc: 0.8972 - val_loss: 0.3627 - val_acc: 0.9045\n",
      "Epoch 12/70\n",
      "60000/60000 [==============================] - 1s 20us/step - loss: 0.3781 - acc: 0.8991 - val_loss: 0.3559 - val_acc: 0.9064\n",
      "Epoch 13/70\n",
      "60000/60000 [==============================] - 1s 19us/step - loss: 0.3712 - acc: 0.9004 - val_loss: 0.3499 - val_acc: 0.9069\n",
      "Epoch 14/70\n",
      "60000/60000 [==============================] - 1s 20us/step - loss: 0.3651 - acc: 0.9015 - val_loss: 0.3446 - val_acc: 0.9083\n",
      "Epoch 15/70\n",
      "60000/60000 [==============================] - 1s 20us/step - loss: 0.3596 - acc: 0.9026 - val_loss: 0.3398 - val_acc: 0.9093\n",
      "Epoch 16/70\n",
      "60000/60000 [==============================] - 1s 20us/step - loss: 0.3547 - acc: 0.9038 - val_loss: 0.3351 - val_acc: 0.9104\n",
      "Epoch 17/70\n",
      "60000/60000 [==============================] - 1s 20us/step - loss: 0.3502 - acc: 0.9047 - val_loss: 0.3312 - val_acc: 0.9116\n",
      "Epoch 18/70\n",
      "60000/60000 [==============================] - 1s 20us/step - loss: 0.3460 - acc: 0.9058 - val_loss: 0.3277 - val_acc: 0.9120\n",
      "Epoch 19/70\n",
      "60000/60000 [==============================] - 1s 21us/step - loss: 0.3422 - acc: 0.9066 - val_loss: 0.3243 - val_acc: 0.9137\n",
      "Epoch 20/70\n",
      "60000/60000 [==============================] - 1s 20us/step - loss: 0.3387 - acc: 0.9076 - val_loss: 0.3212 - val_acc: 0.9135\n",
      "Epoch 21/70\n",
      "60000/60000 [==============================] - 1s 19us/step - loss: 0.3353 - acc: 0.9084 - val_loss: 0.3186 - val_acc: 0.9147\n",
      "Epoch 22/70\n",
      "60000/60000 [==============================] - 1s 19us/step - loss: 0.3323 - acc: 0.9091 - val_loss: 0.3155 - val_acc: 0.9154\n",
      "Epoch 23/70\n",
      "60000/60000 [==============================] - 1s 19us/step - loss: 0.3294 - acc: 0.9098 - val_loss: 0.3133 - val_acc: 0.9162\n",
      "Epoch 24/70\n",
      "60000/60000 [==============================] - 1s 20us/step - loss: 0.3266 - acc: 0.9109 - val_loss: 0.3106 - val_acc: 0.9169\n",
      "Epoch 25/70\n",
      "60000/60000 [==============================] - 1s 19us/step - loss: 0.3241 - acc: 0.9115 - val_loss: 0.3084 - val_acc: 0.9176\n",
      "Epoch 26/70\n",
      "60000/60000 [==============================] - 1s 19us/step - loss: 0.3217 - acc: 0.9125 - val_loss: 0.3064 - val_acc: 0.9180\n",
      "Epoch 27/70\n",
      "60000/60000 [==============================] - 1s 19us/step - loss: 0.3194 - acc: 0.9131 - val_loss: 0.3047 - val_acc: 0.9184\n",
      "Epoch 28/70\n",
      "60000/60000 [==============================] - 1s 20us/step - loss: 0.3172 - acc: 0.9133 - val_loss: 0.3027 - val_acc: 0.9185\n",
      "Epoch 29/70\n",
      "60000/60000 [==============================] - 1s 21us/step - loss: 0.3151 - acc: 0.9138 - val_loss: 0.3007 - val_acc: 0.9193\n",
      "Epoch 30/70\n",
      "60000/60000 [==============================] - 1s 21us/step - loss: 0.3132 - acc: 0.9143 - val_loss: 0.2990 - val_acc: 0.9193\n",
      "Epoch 31/70\n",
      "60000/60000 [==============================] - 1s 21us/step - loss: 0.3113 - acc: 0.9149 - val_loss: 0.2973 - val_acc: 0.9207\n",
      "Epoch 32/70\n",
      "60000/60000 [==============================] - 1s 20us/step - loss: 0.3095 - acc: 0.9154 - val_loss: 0.2960 - val_acc: 0.9211\n",
      "Epoch 33/70\n",
      "60000/60000 [==============================] - 1s 20us/step - loss: 0.3077 - acc: 0.9158 - val_loss: 0.2947 - val_acc: 0.9208\n",
      "Epoch 34/70\n",
      "60000/60000 [==============================] - 1s 21us/step - loss: 0.3061 - acc: 0.9161 - val_loss: 0.2928 - val_acc: 0.9216\n",
      "Epoch 35/70\n",
      "60000/60000 [==============================] - 1s 22us/step - loss: 0.3045 - acc: 0.9168 - val_loss: 0.2917 - val_acc: 0.9216\n",
      "Epoch 36/70\n",
      "60000/60000 [==============================] - 1s 21us/step - loss: 0.3030 - acc: 0.9172 - val_loss: 0.2902 - val_acc: 0.9223\n",
      "Epoch 37/70\n",
      "60000/60000 [==============================] - 1s 21us/step - loss: 0.3015 - acc: 0.9177 - val_loss: 0.2889 - val_acc: 0.9225\n",
      "Epoch 38/70\n",
      "60000/60000 [==============================] - 1s 21us/step - loss: 0.3000 - acc: 0.9178 - val_loss: 0.2878 - val_acc: 0.9234\n",
      "Epoch 39/70\n",
      "60000/60000 [==============================] - 1s 21us/step - loss: 0.2987 - acc: 0.9186 - val_loss: 0.2868 - val_acc: 0.9233\n",
      "Epoch 40/70\n",
      "60000/60000 [==============================] - 1s 20us/step - loss: 0.2973 - acc: 0.9187 - val_loss: 0.2855 - val_acc: 0.9243\n",
      "Epoch 41/70\n",
      "60000/60000 [==============================] - 1s 20us/step - loss: 0.2961 - acc: 0.9190 - val_loss: 0.2844 - val_acc: 0.9237\n",
      "Epoch 42/70\n",
      "60000/60000 [==============================] - 1s 21us/step - loss: 0.2948 - acc: 0.9195 - val_loss: 0.2836 - val_acc: 0.9244\n",
      "Epoch 43/70\n",
      "60000/60000 [==============================] - 1s 20us/step - loss: 0.2936 - acc: 0.9200 - val_loss: 0.2824 - val_acc: 0.9246\n",
      "Epoch 44/70\n",
      "60000/60000 [==============================] - 1s 21us/step - loss: 0.2924 - acc: 0.9203 - val_loss: 0.2814 - val_acc: 0.9244\n",
      "Epoch 45/70\n",
      "60000/60000 [==============================] - 1s 20us/step - loss: 0.2913 - acc: 0.9205 - val_loss: 0.2807 - val_acc: 0.9249\n",
      "Epoch 46/70\n",
      "60000/60000 [==============================] - 1s 20us/step - loss: 0.2902 - acc: 0.9210 - val_loss: 0.2797 - val_acc: 0.9253\n",
      "Epoch 47/70\n",
      "60000/60000 [==============================] - 1s 20us/step - loss: 0.2891 - acc: 0.9212 - val_loss: 0.2788 - val_acc: 0.9252\n",
      "Epoch 48/70\n",
      "60000/60000 [==============================] - 1s 20us/step - loss: 0.2881 - acc: 0.9217 - val_loss: 0.2782 - val_acc: 0.9259\n",
      "Epoch 49/70\n",
      "60000/60000 [==============================] - 1s 20us/step - loss: 0.2871 - acc: 0.9220 - val_loss: 0.2772 - val_acc: 0.9254\n",
      "Epoch 50/70\n",
      "60000/60000 [==============================] - 1s 20us/step - loss: 0.2861 - acc: 0.9222 - val_loss: 0.2763 - val_acc: 0.9258\n",
      "Epoch 51/70\n",
      "60000/60000 [==============================] - 1s 20us/step - loss: 0.2852 - acc: 0.9223 - val_loss: 0.2758 - val_acc: 0.9258\n",
      "Epoch 52/70\n",
      "60000/60000 [==============================] - 1s 20us/step - loss: 0.2842 - acc: 0.9226 - val_loss: 0.2748 - val_acc: 0.9262\n",
      "Epoch 53/70\n",
      "60000/60000 [==============================] - 1s 21us/step - loss: 0.2833 - acc: 0.9228 - val_loss: 0.2740 - val_acc: 0.9262\n",
      "Epoch 54/70\n",
      "60000/60000 [==============================] - 1s 20us/step - loss: 0.2824 - acc: 0.9229 - val_loss: 0.2733 - val_acc: 0.9262\n",
      "Epoch 55/70\n",
      "60000/60000 [==============================] - 1s 20us/step - loss: 0.2816 - acc: 0.9233 - val_loss: 0.2726 - val_acc: 0.9269\n",
      "Epoch 56/70\n",
      "60000/60000 [==============================] - 1s 20us/step - loss: 0.2807 - acc: 0.9233 - val_loss: 0.2718 - val_acc: 0.9272\n",
      "Epoch 57/70\n",
      "60000/60000 [==============================] - 1s 20us/step - loss: 0.2799 - acc: 0.9237 - val_loss: 0.2711 - val_acc: 0.9272\n",
      "Epoch 58/70\n",
      "60000/60000 [==============================] - 1s 20us/step - loss: 0.2791 - acc: 0.9239 - val_loss: 0.2705 - val_acc: 0.9273\n",
      "Epoch 59/70\n",
      "60000/60000 [==============================] - 1s 20us/step - loss: 0.2783 - acc: 0.9242 - val_loss: 0.2700 - val_acc: 0.9271\n",
      "Epoch 60/70\n"
     ]
    },
    {
     "name": "stdout",
     "output_type": "stream",
     "text": [
      "60000/60000 [==============================] - 1s 20us/step - loss: 0.2775 - acc: 0.9244 - val_loss: 0.2695 - val_acc: 0.9272\n",
      "Epoch 61/70\n",
      "60000/60000 [==============================] - 1s 20us/step - loss: 0.2768 - acc: 0.9243 - val_loss: 0.2686 - val_acc: 0.9273\n",
      "Epoch 62/70\n",
      "60000/60000 [==============================] - 1s 20us/step - loss: 0.2761 - acc: 0.9245 - val_loss: 0.2681 - val_acc: 0.9277\n",
      "Epoch 63/70\n",
      "60000/60000 [==============================] - 1s 20us/step - loss: 0.2753 - acc: 0.9250 - val_loss: 0.2674 - val_acc: 0.9279\n",
      "Epoch 64/70\n",
      "60000/60000 [==============================] - 1s 19us/step - loss: 0.2746 - acc: 0.9250 - val_loss: 0.2671 - val_acc: 0.9280\n",
      "Epoch 65/70\n",
      "60000/60000 [==============================] - 1s 19us/step - loss: 0.2740 - acc: 0.9253 - val_loss: 0.2665 - val_acc: 0.9281\n",
      "Epoch 66/70\n",
      "60000/60000 [==============================] - 1s 20us/step - loss: 0.2733 - acc: 0.9254 - val_loss: 0.2660 - val_acc: 0.9287\n",
      "Epoch 67/70\n",
      "60000/60000 [==============================] - 1s 20us/step - loss: 0.2726 - acc: 0.9254 - val_loss: 0.2653 - val_acc: 0.9283\n",
      "Epoch 68/70\n",
      "60000/60000 [==============================] - 1s 21us/step - loss: 0.2719 - acc: 0.9257 - val_loss: 0.2649 - val_acc: 0.9285\n",
      "Epoch 69/70\n",
      "60000/60000 [==============================] - 1s 20us/step - loss: 0.2713 - acc: 0.9259 - val_loss: 0.2643 - val_acc: 0.9287\n",
      "Epoch 70/70\n",
      "60000/60000 [==============================] - 1s 20us/step - loss: 0.2707 - acc: 0.9261 - val_loss: 0.2638 - val_acc: 0.9285\n",
      "Test score: 0.2637591087579727\n",
      "Test accuracy: 0.9285\n"
     ]
    }
   ],
   "source": [
    "model.compile(optimizer='sgd', loss='categorical_crossentropy', metrics=['accuracy']) \n",
    "history = model.fit(res_train, Y_train, batch_size=batch_size, nb_epoch=nb_epoch,verbose=1, validation_data=(res_test, Y_test)) \n",
    "score = model.evaluate(res_test, Y_test, verbose=0) \n",
    "print('Test score:', score[0]) \n",
    "print('Test accuracy:', score[1])"
   ]
  },
  {
   "cell_type": "code",
   "execution_count": null,
   "metadata": {},
   "outputs": [],
   "source": []
  }
 ],
 "metadata": {
  "kernelspec": {
   "display_name": "Python 3",
   "language": "python",
   "name": "python3"
  },
  "language_info": {
   "codemirror_mode": {
    "name": "ipython",
    "version": 3
   },
   "file_extension": ".py",
   "mimetype": "text/x-python",
   "name": "python",
   "nbconvert_exporter": "python",
   "pygments_lexer": "ipython3",
   "version": "3.6.7"
  }
 },
 "nbformat": 4,
 "nbformat_minor": 2
}
