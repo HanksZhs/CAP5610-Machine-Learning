{
 "cells": [
  {
   "cell_type": "code",
   "execution_count": 1,
   "metadata": {},
   "outputs": [
    {
     "name": "stderr",
     "output_type": "stream",
     "text": [
      "Using TensorFlow backend.\n"
     ]
    },
    {
     "name": "stdout",
     "output_type": "stream",
     "text": [
      "(60000, 28, 28)\n",
      "(60000, 784)\n",
      "(60000, 784)\n"
     ]
    }
   ],
   "source": [
    "from keras.datasets import mnist\n",
    "import numpy as np\n",
    "import matplotlib\n",
    "import matplotlib.pyplot as plt\n",
    "\n",
    "(train_images, train_labels), (test_images, test_labels) = mnist.load_data()\n",
    "\n",
    "print(train_images.shape)\n",
    "train_images=train_images.reshape(train_images.shape[0],train_images.shape[1]*train_images.shape[2])\n",
    "print(train_images.shape)\n",
    "test_images=test_images.reshape(test_images.shape[0],test_images.shape[1]*test_images.shape[2])\n",
    "print(train_images.shape)"
   ]
  },
  {
   "cell_type": "code",
   "execution_count": 2,
   "metadata": {},
   "outputs": [],
   "source": [
    "# normalize training img and test img\n",
    "train_images_normalised = train_images/255.0\n",
    "test_images_normalised = test_images/255.0"
   ]
  },
  {
   "cell_type": "code",
   "execution_count": 3,
   "metadata": {},
   "outputs": [
    {
     "name": "stdout",
     "output_type": "stream",
     "text": [
      "0.1306604762738429\n",
      "(60000, 784)\n"
     ]
    }
   ],
   "source": [
    "print(np.mean(train_images_normalised))\n",
    "train_images_normalised_copy=train_images_normalised.copy()\n",
    "for i in range(train_images_normalised.shape[0]):\n",
    "        for j in range(train_images_normalised.shape[1]):\n",
    "            if (train_images_normalised[i][j] > 0.5):\n",
    "                train_images_normalised_copy[i][j]=1\n",
    "            else:\n",
    "                train_images_normalised_copy[i][j]=0\n",
    "\n",
    "print(train_images_normalised_copy.shape)"
   ]
  },
  {
   "cell_type": "code",
   "execution_count": 4,
   "metadata": {},
   "outputs": [],
   "source": [
    "def plot_digit(some_digit):\n",
    "    \n",
    "    some_digit_image = some_digit.reshape(28,28)\n",
    "\n",
    "    plt.imshow(some_digit_image, cmap = matplotlib.cm.binary, interpolation = \"nearest\")\n",
    "    plt.axis(\"off\")\n",
    "    plt.show()"
   ]
  },
  {
   "cell_type": "code",
   "execution_count": 5,
   "metadata": {},
   "outputs": [],
   "source": [
    "\n",
    "#print(train_images_normalised[0].shape)\n",
    "#plot_digit(train_images_normalised[30])\n",
    "#plot_digit(train_images_normalised_copy[30])\n"
   ]
  },
  {
   "cell_type": "code",
   "execution_count": 6,
   "metadata": {},
   "outputs": [],
   "source": [
    "def find_edge(data):\n",
    "    edge=[]\n",
    "    sign=0\n",
    "    b=0\n",
    "    for i in range(0,28): \n",
    "        sign=0\n",
    "        for j in range(0,28):\n",
    "            if data[i][j]==0 and sign==1:\n",
    "                edge.append(((i*28+j),(i*28+j-1)))\n",
    "            if data[i][j]==0:\n",
    "                sign=1\n",
    "            else:\n",
    "                sign=0\n",
    "            if data[i][j]==1:\n",
    "                b=b+1\n",
    "    for j in range(0,28): \n",
    "        sign=0\n",
    "        for i in range(0,28):\n",
    "            if data[i][j]==0 and sign==1:\n",
    "                edge.append(((i*28+j),((i-1)*28+j)))\n",
    "            if data[i][j]==0:\n",
    "                sign=1\n",
    "            else:\n",
    "                sign=0\n",
    "    return edge,b"
   ]
  },
  {
   "cell_type": "code",
   "execution_count": 7,
   "metadata": {},
   "outputs": [],
   "source": [
    "#print(train_images_normalised[30].shape)\n",
    "#testlist,count_b=find_edge(train_images_normalised_copy[30].reshape(28,28))\n",
    "\n",
    "#print(count_b)"
   ]
  },
  {
   "cell_type": "code",
   "execution_count": 35,
   "metadata": {},
   "outputs": [],
   "source": [
    "\"\"\"\n",
    "class QuickUnion(object):\n",
    "    id=[]\n",
    "    count=0\n",
    "    \n",
    "    def __init__(self,n):\n",
    "        self.count = n\n",
    "        i=0\n",
    "        while i<n:\n",
    "            self.id.append(i)\n",
    "            i+=1\n",
    "\n",
    "    def connected(self,p,q):\n",
    "        if self.find(p) == self.find(q):\n",
    "            return True\n",
    "        else:            \n",
    "            return False\n",
    "    \n",
    "    def find(self,p):   \n",
    "        while (p != self.id[p]):\n",
    "            p = self.id[p]\n",
    "        return p\n",
    "    \n",
    "    def union(self,p,q):\n",
    "        idq = self.find(q)\n",
    "        idp = self.find(p)\n",
    "        if not self.connected(p,q):\n",
    "            self.id[idp]=idq\n",
    "            self.count -=1\n",
    "            \n",
    "    def __delete__(self):\n",
    "        print(\"deleted in descriptor object\")\n",
    "        #del self.count\n",
    "        # del self.id\n",
    "        \n",
    "\"\"\""
   ]
  },
  {
   "cell_type": "code",
   "execution_count": 9,
   "metadata": {},
   "outputs": [
    {
     "name": "stdout",
     "output_type": "stream",
     "text": [
      "(60000, 785)\n"
     ]
    }
   ],
   "source": [
    "res_train=np.zeros((train_images_normalised.shape[0],(train_images_normalised.shape[1]+1)))\n",
    "print(res_train.shape)"
   ]
  },
  {
   "cell_type": "code",
   "execution_count": 10,
   "metadata": {},
   "outputs": [
    {
     "data": {
      "text/plain": [
       "'\\nfor i in range (train_images_normalised_copy.shape[0]):\\n    testlist,count_b=find_edge(train_images_normalised_copy[i].reshape(28,28))\\n    print(count_b)\\n    qf = QuickUnion(28*28)\\n    for k in testlist:\\n        p =  k[0]\\n        q =  k[1]\\n        qf.union(p,q)\\n    \\n    \\n    print(\"res:\",qf.count-count_b)\\n    res_train[i]=np.append(train_images_normalised[i],qf.count-count_b)\\n    testlist=[]\\n    count_b=0\\n    qf=0\\n'"
      ]
     },
     "execution_count": 10,
     "metadata": {},
     "output_type": "execute_result"
    }
   ],
   "source": [
    "\"\"\"\n",
    "for i in range (train_images_normalised_copy.shape[0]):\n",
    "    testlist,count_b=find_edge(train_images_normalised_copy[i].reshape(28,28))\n",
    "    print(count_b)\n",
    "    qf = QuickUnion(28*28)\n",
    "    for k in testlist:\n",
    "        p =  k[0]\n",
    "        q =  k[1]\n",
    "        qf.union(p,q)\n",
    "    \n",
    "    \n",
    "    print(\"res:\",qf.count-count_b)\n",
    "    res_train[i]=np.append(train_images_normalised[i],qf.count-count_b)\n",
    "    testlist=[]\n",
    "    count_b=0\n",
    "    qf=0\n",
    "\"\"\""
   ]
  },
  {
   "cell_type": "code",
   "execution_count": 11,
   "metadata": {},
   "outputs": [
    {
     "data": {
      "text/plain": [
       "'\\ntestlist,count_b=find_edge(train_images_normalised_copy[2].reshape(28,28))\\nprint(count_b)\\nqf = QuickUnion(28*28)\\nfor k in testlist:\\n    p =  k[0]\\n    q =  k[1]\\n    qf.union(p,q)\\n    \\nprint(\"qf:\",qf.count)    \\nprint(\"res:\",qf.count-count_b)\\n'"
      ]
     },
     "execution_count": 11,
     "metadata": {},
     "output_type": "execute_result"
    }
   ],
   "source": [
    "\"\"\"\n",
    "testlist,count_b=find_edge(train_images_normalised_copy[2].reshape(28,28))\n",
    "print(count_b)\n",
    "qf = QuickUnion(28*28)\n",
    "for k in testlist:\n",
    "    p =  k[0]\n",
    "    q =  k[1]\n",
    "    qf.union(p,q)\n",
    "    \n",
    "print(\"qf:\",qf.count)    \n",
    "print(\"res:\",qf.count-count_b)\n",
    "\"\"\""
   ]
  },
  {
   "cell_type": "code",
   "execution_count": 36,
   "metadata": {},
   "outputs": [],
   "source": [
    "def test(input):\n",
    "    testlist,count_b=find_edge(input.reshape(28,28))\n",
    "    qf2 = QuickUnion(28*28)\n",
    "    for k in testlist:\n",
    "        p =  k[0]\n",
    "        q =  k[1]\n",
    "        qf2.union(p,q)\n",
    "    print(\"qf:\",qf2.count)    \n",
    "    print(\"res:\",qf2.count-count_b)\n",
    "    #del qf2.count\n",
    "    del qf2\n",
    "\n",
    "\n"
   ]
  },
  {
   "cell_type": "code",
   "execution_count": 37,
   "metadata": {},
   "outputs": [
    {
     "name": "stdout",
     "output_type": "stream",
     "text": [
      "qf: 82\n",
      "res: 1\n"
     ]
    }
   ],
   "source": [
    "#test(train_images_normalised_copy[2])\n"
   ]
  },
  {
   "cell_type": "code",
   "execution_count": 38,
   "metadata": {},
   "outputs": [
    {
     "name": "stdout",
     "output_type": "stream",
     "text": [
      "qf: 784\n",
      "res: 703\n"
     ]
    }
   ],
   "source": [
    "#test(train_images_normalised_copy[2])"
   ]
  },
  {
   "cell_type": "code",
   "execution_count": null,
   "metadata": {},
   "outputs": [],
   "source": [
    "for i in range (train_images_normalised_copy.shape[0]):\n",
    "    class QuickUnion(object):\n",
    "        id=[]\n",
    "        count=0\n",
    "    \n",
    "        def __init__(self,n):\n",
    "            self.count = n\n",
    "            i=0\n",
    "            while i<n:\n",
    "                self.id.append(i)\n",
    "                i+=1\n",
    "\n",
    "        def connected(self,p,q):\n",
    "            if self.find(p) == self.find(q):\n",
    "                return True\n",
    "            else:            \n",
    "                return False\n",
    "    \n",
    "        def find(self,p):   \n",
    "            while (p != self.id[p]):\n",
    "                p = self.id[p]\n",
    "            return p\n",
    "    \n",
    "        def union(self,p,q):\n",
    "            idq = self.find(q)\n",
    "            idp = self.find(p)\n",
    "            if not self.connected(p,q):\n",
    "                self.id[idp]=idq\n",
    "                self.count -=1\n",
    "            \n",
    "\n",
    "    testlist,count_b=find_edge(train_images_normalised_copy[i].reshape(28,28))\n",
    "    print(count_b)\n",
    "    qf = QuickUnion(28*28)\n",
    "    for k in testlist:\n",
    "        p =  k[0]\n",
    "        q =  k[1]\n",
    "        qf.union(p,q)\n",
    "    \n",
    "    \n",
    "    print(\"res:\",qf.count-count_b)\n",
    "    res_train[i]=np.append(train_images_normalised[i],qf.count-count_b)\n",
    "    testlist=[]\n",
    "    count_b=0\n",
    "    qf=0"
   ]
  },
  {
   "cell_type": "code",
   "execution_count": null,
   "metadata": {},
   "outputs": [],
   "source": []
  }
 ],
 "metadata": {
  "kernelspec": {
   "display_name": "Python 3",
   "language": "python",
   "name": "python3"
  },
  "language_info": {
   "codemirror_mode": {
    "name": "ipython",
    "version": 3
   },
   "file_extension": ".py",
   "mimetype": "text/x-python",
   "name": "python",
   "nbconvert_exporter": "python",
   "pygments_lexer": "ipython3",
   "version": "3.6.7"
  }
 },
 "nbformat": 4,
 "nbformat_minor": 2
}
